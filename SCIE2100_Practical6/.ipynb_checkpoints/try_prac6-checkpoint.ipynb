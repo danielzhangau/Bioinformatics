{
 "cells": [
  {
   "cell_type": "code",
   "execution_count": 1,
   "metadata": {},
   "outputs": [],
   "source": [
    "from sequence import *\n",
    "from sym import *\n",
    "from sstruct import *"
   ]
  },
  {
   "cell_type": "markdown",
   "metadata": {},
   "source": [
    "#### Chou-Fasman table  \n",
    "cf_dict = {   \n",
    "     (H),  P(E),  P(T),  f(i), f(i+1), f(i+2),  f(i+3)  \n",
    "'A': ( 142,   83,   66, 0.060,  0.076,  0.035,  0.058 ),    # Alanine  \n",
    "'R': (  98,   93,   95, 0.070,  0.106,  0.099,  0.085 ),    # Arginine  \n",
    "...,  \n",
    "'V': ( 106,  170,   50, 0.062,  0.048,  0.028,  0.053 ),}   # Valine  \n",
    "\n",
    "The first three scores for each amino acid correspond to its tendency to be involved in **alpha-helices (H), beta-strands (E), and turns (T)**, respectively.\n",
    "\n",
    "The two files **prot2.fa and sstr3.fa** should refer to the same set of proteins stored as amino acid sequence and secondary structure sequence respectively."
   ]
  },
  {
   "cell_type": "code",
   "execution_count": 2,
   "metadata": {},
   "outputs": [],
   "source": [
    "# read both protein and structure sequences into lists\n",
    "prot2 = readFastaFile(\"prot2.fa\", Protein_Alphabet)\n",
    "sstr3 = readFastaFile(\"sstr3.fa\", DSSP3_Alphabet)"
   ]
  },
  {
   "cell_type": "markdown",
   "metadata": {},
   "source": [
    "#### Predicting helical structures with the markCountAbove functionOutline\n",
    "The Chou-Fasman rules are based on windows of amino acids and their scores, as secondary structure generally depends on multiple amino acids occurring together.\n",
    "To identify alpha-helices we look at 6 consecutive residues at a time and check if 4 or more have an alpha score of at least 100."
   ]
  },
  {
   "cell_type": "code",
   "execution_count": 3,
   "metadata": {},
   "outputs": [
    {
     "name": "stdout",
     "output_type": "stream",
     "text": [
      "[False, True, True, True, True, True, True, True, True, True, True, False, True, True, True, True, True, True, True, True, True, True, True, True, True, True, True, True, True, True, True, True, True, True, True, True, True, True, True, True, True, True, True, True, True, True, True, True, True, True, True, True, True, True, True, False, False, False, False, False]\n"
     ]
    }
   ],
   "source": [
    "above = markCountAbove(markCountAboveTest)\n",
    "print (above)"
   ]
  },
  {
   "cell_type": "markdown",
   "metadata": {},
   "source": [
    "#### Exercise 3 : Apply your functions to the PDB entry 2NLU\n",
    "The below protein sequence is the C-terminus of the PDB entry 2NLU starting at position 76 and onwards. Consider the helical secondary structure of its amino acid sequence PNKRKGFSEGLWEIENNPTVKASGY, which we can generate with in Python, like so:"
   ]
  },
  {
   "cell_type": "code",
   "execution_count": 4,
   "metadata": {},
   "outputs": [
    {
     "name": "stdout",
     "output_type": "stream",
     "text": [
      "the index of getScores is 0: -HHHHHHHHHHHHHHHHHHHHH---\n",
      "the index of getScores is 1: -------------------------\n",
      "the index of getScores is 2: HHHHHHHHHH-----HHHHHHHHHH\n"
     ]
    }
   ],
   "source": [
    "myprot = Sequence('PNKRKGFSEGLWEIENNPTVKASGY', Protein_Alphabet, '2NLU_r76')\n",
    "alpha = getScores(myprot, 0)\n",
    "calls_a1 = markCountAbove(alpha, width = 6, call_cnt = 4)\n",
    "print(\"the index of getScores is 0: \" + makesstr(calls_a1, 'H'))\n",
    "\n",
    "alpha = getScores(myprot, 1)\n",
    "calls_a1 = markCountAbove(alpha, width = 6, call_cnt = 4)\n",
    "print(\"the index of getScores is 1: \" + makesstr(calls_a1, 'H'))\n",
    "\n",
    "alpha = getScores(myprot, 2)\n",
    "calls_a1 = markCountAbove(alpha, width = 6, call_cnt = 4)\n",
    "print(\"the index of getScores is 2: \" + makesstr(calls_a1, 'H'))"
   ]
  },
  {
   "cell_type": "markdown",
   "metadata": {},
   "source": [
    "### Exercise 4 : Scripting the full Chou-Fasman algorithm"
   ]
  },
  {
   "cell_type": "markdown",
   "metadata": {},
   "source": [
    "the process of applying the Chou-Fasman prediction rules for alpha-helices and beta-strands"
   ]
  },
  {
   "cell_type": "code",
   "execution_count": 5,
   "metadata": {},
   "outputs": [
    {
     "name": "stdout",
     "output_type": "stream",
     "text": [
      "Steps 1 to 4\n",
      "-HHHHHHHHHHHHHHHHHHHHH---\n",
      "---------EEEEEE----------\n",
      "Step 5\n",
      "-HHHHHHHHHHHHHHHHHHHHHH--\n",
      "-------------------------\n",
      "Final prediction\n",
      "CHHHHHHHHHHHHHHHHHHHHHHCC\n"
     ]
    }
   ],
   "source": [
    "print(\"Steps 1 to 4\")\n",
    "# Step 1: Retrieve scores for each amino acid\n",
    "alpha = getScores(myprot, 0) \n",
    "beta = getScores(myprot, 1)\n",
    "\n",
    "# Step 2: Alpha-helix \n",
    "calls_a1 = markCountAbove(alpha, width = 6, call_cnt = 4) \n",
    "print(makesstr(calls_a1, 'H'))\n",
    "\n",
    "# Step 3: Alpha-helix extension\n",
    "calls_a2 = extendDownstream(alpha, calls_a1, width = 4) \n",
    "calls_a3 = extendUpstream(alpha, calls_a2, width = 4)\n",
    "\n",
    "# Step 4: Beta-sheet and extension\n",
    "calls_b1 = markCountAbove(beta, width = 5, call_cnt = 3) \n",
    "print(makesstr(calls_b1, 'E'))\n",
    "calls_b2 = extendDownstream(beta, calls_b1, width = 4) \n",
    "calls_b3 = extendUpstream(beta, calls_b2, width = 4)\n",
    "\n",
    "# Step 5: Resolve alpha and beta overlaps\n",
    "avg_a = calcRegionAverage(alpha, calls_a3) \n",
    "avg_b = calcRegionAverage(beta, calls_b3)\n",
    "diff_a = [avg_a[i] - avg_b[i] for i in range(len(avg_a))] \n",
    "diff_b = [avg_b[i] - avg_a[i] for i in range(len(avg_a))] \n",
    "calls_a4 = checkSupport(calls_a3, diff_a)\n",
    "calls_b4 = checkSupport(calls_b3, diff_b)\n",
    "\n",
    "print(\"Step 5\")\n",
    "print(makesstr(calls_a4, 'H'))\n",
    "print(makesstr(calls_b4, 'E'))\n",
    "\n",
    "print(\"Final prediction\")\n",
    "# Combine calls and replace remaining '-' symbols to C (coil)\n",
    "prediction = predicted_sequence = ''.join(['H' if alpha else ('E' if beta else 'C') for (alpha, beta) in zip(calls_a4, calls_b4)])\n",
    "print(prediction)"
   ]
  },
  {
   "cell_type": "markdown",
   "metadata": {},
   "source": [
    "#### Exercise 5 : Calculating baseline accuracy Outline\n",
    "What percent accuracy would you expect if you were guessing the assignment of 3-class (H, E or C) secondary structure at random, assuming that each class is equally likely?\n",
    "\n"
   ]
  },
  {
   "cell_type": "markdown",
   "metadata": {},
   "source": [
    "#### Exercise 6 : Assessing accuracy for a specific protein"
   ]
  },
  {
   "cell_type": "code",
   "execution_count": 6,
   "metadata": {},
   "outputs": [
    {
     "name": "stdout",
     "output_type": "stream",
     "text": [
      "protein:  1EVH: SEQSICQARAAVMVYDDANKKWVPAGGSTGFSRVHIYHHTGNNTFRVVGRKIQDHQVVINCAIPKGLKYNQATQTFHQWRDARQVYGLNFGSKEDANVFASAMMHALEVLN\n",
      "structure:  1EVH: CEEEEEEEEEEEEEEECCCCEEEEHHHCCCCEEEEEEEECCCCEEEEEEEECCCCCEEEEEEECCCCCCECCCCCEEEEECCCCEEEEEECCHHHHHHHHHHHHHHHHHHC\n"
     ]
    }
   ],
   "source": [
    "# store protein and structure sequences in dictionary for easy retrieval\n",
    "protein_map = {}\n",
    "structure_map = {}\n",
    "\n",
    "for protein in prot2:\n",
    "    protein_map.update({protein.name:protein})\n",
    "    \n",
    "for structure in sstr3:\n",
    "    structure_map.update({structure.name:structure})\n",
    "    \n",
    "protein = protein_map.get(\"1EVH\")\n",
    "structure = structure_map.get(\"1EVH\")\n",
    "print(\"protein: \", protein)\n",
    "print(\"structure: \", structure)"
   ]
  },
  {
   "cell_type": "code",
   "execution_count": 7,
   "metadata": {},
   "outputs": [
    {
     "name": "stdout",
     "output_type": "stream",
     "text": [
      "Steps 1 to 4\n",
      "-HHHHHHHHHHHHHHHHHHHHHHHHH---------------HHHHHHHHHHHHHHHHHHHHHHHHHHHHHHHHHHHHHH----HHHHHHHHHHHHHHHHHHHHHHHHHHHH\n",
      "-EEEEEEEEEEEEEEEE---------------EEEEEEEE--EEEEEEE--EEEEEEEEEEEE---EEEEEEEEEEEEEE-EEEEEEEEE------------EEEEEEEEE\n"
     ]
    }
   ],
   "source": [
    "print(\"Steps 1 to 4\")\n",
    "# Step 2: Alpha-helix \n",
    "alpha = getScores(protein, 0) # values from column 0\n",
    "beta = getScores(protein, 1) # values from column 1\n",
    "calls_a1 = markCountAbove(alpha, width=6, call_cnt=4)\n",
    "print(makesstr(calls_a1, 'H'))\n",
    "\n",
    "calls_a2 = extendDownstream(alpha, calls_a1, width=4)\n",
    "calls_a3 = extendUpstream(alpha, calls_a2, width=4)\n",
    "\n",
    "calls_b1 = markCountAbove(beta, width=5, call_cnt=3)\n",
    "print(makesstr(calls_b1, 'E'))\n",
    "calls_b2 = extendDownstream(beta, calls_b1, width=4)\n",
    "calls_b3 = extendUpstream(beta, calls_b2, width=4)\n",
    "\n",
    "avg_a = calcRegionAverage(alpha, calls_a3)\n",
    "avg_b = calcRegionAverage(beta, calls_b3)"
   ]
  },
  {
   "cell_type": "code",
   "execution_count": 8,
   "metadata": {},
   "outputs": [
    {
     "name": "stdout",
     "output_type": "stream",
     "text": [
      "Step 5\n",
      "H-----------------HHHHHHHH---------------H----------------------H------------------HHHHHHHHHHHHHHHHHHHHHHHHHHHH\n",
      "-EEEEEEEEEEEEEEEEE------------EEEEEEEEEE--EEEEEEEEEEEEEEEEEEEEEE-EEEEEEEEEEEEEEEEEE----------------------------\n",
      "Final prediction\n",
      "HEEEEEEEEEEEEEEEEEHHHHHHHHCCCCEEEEEEEEEECHEEEEEEEEEEEEEEEEEEEEEEHEEEEEEEEEEEEEEEEEEHHHHHHHHHHHHHHHHHHHHHHHHHHHH\n"
     ]
    }
   ],
   "source": [
    "diff_a = [avg_a[i] - avg_b[i] for i in range(len(avg_a))]\n",
    "diff_b = [avg_b[i] - avg_a[i] for i in range(len(avg_a))]\n",
    "\n",
    "print(\"Step 5\")\n",
    "calls_a4 = checkSupport(calls_a3, diff_a)\n",
    "calls_b4 = checkSupport(calls_b3, diff_b)\n",
    "print(makesstr(calls_a4, 'H'))\n",
    "print(makesstr(calls_b4, 'E'))\n",
    "\n",
    "print(\"Final prediction\")\n",
    "# Combine calls and replace remaining '-' symbols to C (coil)\n",
    "prediction = predicted_sequence = ''.join(['H' if alpha else ('E' if beta else 'C') for (alpha, beta) in zip(calls_a4, calls_b4)])\n",
    "print(prediction)"
   ]
  },
  {
   "cell_type": "code",
   "execution_count": 9,
   "metadata": {},
   "outputs": [
    {
     "name": "stdout",
     "output_type": "stream",
     "text": [
      "True\n"
     ]
    }
   ],
   "source": [
    "myPrediction = prediction\n",
    "mySS = [sequence for sequence in sstr3 if sequence.name == \"1EVH\"][0]\n",
    "\n",
    "index = 15 #position to look at\n",
    "if myPrediction[index] == mySS[index]:\n",
    "    print(True)"
   ]
  },
  {
   "cell_type": "markdown",
   "metadata": {},
   "source": [
    "overall accuracy of Chou-Fasman for predicting secondary structure"
   ]
  },
  {
   "cell_type": "code",
   "execution_count": 10,
   "metadata": {},
   "outputs": [
    {
     "name": "stdout",
     "output_type": "stream",
     "text": [
      "111  structures with  68  correctly matched.\n",
      "Accuracy 61.26%\n"
     ]
    }
   ],
   "source": [
    "# to check the accuracy we simply compare our prediction to the one obtained from sstr3.fa\n",
    "position = 0\n",
    "match_count = 0\n",
    "for element in structure.sequence:\n",
    "    if element == \"H\" and calls_a4[position]:\n",
    "        match_count += 1 # matched alpha helix\n",
    "    if element == \"E\" and calls_b4[position]:\n",
    "        match_count += 1 # matched beta sheet\n",
    "    if element != \"H\" and element !=\"E\" and not(calls_a4[position]) and not(calls_b4[position]):\n",
    "        match_count += 1 # matched other\n",
    "    position += 1\n",
    "        \n",
    "print(position, \" structures with \", match_count, \" correctly matched.\")\n",
    "print(\"Accuracy %.2f%%\" % ((float(match_count) /  position) * 100))"
   ]
  },
  {
   "cell_type": "markdown",
   "metadata": {},
   "source": [
    "percent accuracy for alpha-helix predictions"
   ]
  },
  {
   "cell_type": "code",
   "execution_count": 11,
   "metadata": {},
   "outputs": [
    {
     "name": "stdout",
     "output_type": "stream",
     "text": [
      "alpha-helix Accuracy 81.98%\n"
     ]
    }
   ],
   "source": [
    "position = 0\n",
    "tp = 0  # number of true positives (correctly identified calls)\n",
    "tn = 0  # number of true negatives (correctly missed no-calls)\n",
    "fp = 0  # number of false positives (incorrectly identified no-calls)\n",
    "fn = 0  # number of false negatives (incorrectly missed calls)\n",
    "for element in structure.sequence:\n",
    "    if element == \"H\" and calls_a4[position]:\n",
    "        tp += 1 # matched alpha helix\n",
    "    if element != \"H\" and not(calls_a4[position]):\n",
    "        tn += 1 # matched beta sheet\n",
    "    if element != \"H\" and calls_a4[position]:\n",
    "        fp += 1 # matched beta sheet\n",
    "    if element == \"H\" and not(calls_a4[position]):\n",
    "        fn += 1 # matched beta sheet\n",
    "    position += 1\n",
    "\n",
    "print(\"alpha-helix Accuracy %.2f%%\" % ((float((tp+tn) /  (tp+tn+fp+fn)) * 100)))"
   ]
  },
  {
   "cell_type": "markdown",
   "metadata": {},
   "source": [
    "percent accuracy for beta-strands predictions"
   ]
  },
  {
   "cell_type": "code",
   "execution_count": 12,
   "metadata": {},
   "outputs": [
    {
     "name": "stdout",
     "output_type": "stream",
     "text": [
      "beta-strand Accuracy 70.27%\n"
     ]
    }
   ],
   "source": [
    "position = 0\n",
    "tp = 0  # number of true positives (correctly identified calls)\n",
    "tn = 0  # number of true negatives (correctly missed no-calls)\n",
    "fp = 0  # number of false positives (incorrectly identified no-calls)\n",
    "fn = 0  # number of false negatives (incorrectly missed calls)\n",
    "for element in structure.sequence:\n",
    "    if element == \"E\" and calls_b4[position]:\n",
    "        tp += 1 # matched alpha helix\n",
    "    if element != \"E\" and not(calls_b4[position]):\n",
    "        tn += 1 # matched beta sheet\n",
    "    if element != \"E\" and calls_b4[position]:\n",
    "        fp += 1 # matched beta sheet\n",
    "    if element == \"E\" and not(calls_b4[position]):\n",
    "        fn += 1 # matched beta sheet\n",
    "    position += 1\n",
    "\n",
    "print(\"beta-strand Accuracy %.2f%%\" % ((float((tp+tn) /  (tp+tn+fp+fn)) * 100)))"
   ]
  },
  {
   "cell_type": "code",
   "execution_count": 24,
   "metadata": {},
   "outputs": [
    {
     "name": "stdout",
     "output_type": "stream",
     "text": [
      "protein:  2ZPR: IVGGYECKAYSQPHQVSLNSGYHFCGGSLVNENWVVSAAHCYKSRVAVRLGEHNIKVTEGSEQFISSSRVIRHPNYSSYNIDNDIMLIKLSKPATLNTYVQPVALPSSCAPAGTMCTVSGWGNTMSSTADGDKLQCLNIPILSYSDCNNSYPGMITNAMFCAGYLEGGKDSCQGDSGGPVVCNGELQGVVSWGYGCAEPGNPGVYAKVCIFNDWLTSTMAT\n",
      "structure:  2ZPR: CECCEECCCCCCCCEEEEECCCEEEEEEECCCCEEEECHHHCCCCCEEEECCCECCCCCCCCEEEEEEEEEECCCCEHHHCECCCEEEEECCCCCCCCCCCCCECCCCCCCCCCEEEEEECCCCCCCCCCCCECEEEEEEECCHHHHHHHCCCCCCCCEEEECCCCCCCECCCCCCCCEEEECCEEEEEEEECCCCCCCCCCEEEEEHHHHHHHHHHHHHC\n",
      "Steps 1 to 4\n",
      "-------------HHHHHHH------HHHHHHHHHHHHHH--HHHHHHHHHHHHHHHHHHHHHHHHH------------HHHHHHHHHHHHHHHHHHHHHHHHHHH-------------------------HHHHHHHHHHHH---------HHHHHHHHHHH----------------HHHHHHHHHHHHH----------HHHHHHHHHHHHHH-----\n",
      "EEEEE------EEEEEEEE-EEEEEE-----EEEEEEE-------EEEEE---EEEEEE-EEEEEEE---------------EEEEEEEEE--EEEEEEEEEEEE------EEEEEEEEEEEEEEEEE---EEEEEEEEEEEEEE-----EEEEEEEEEEEEEEE------------EEEEEEEEEEEEEEEEEEE-------EEEEEEEEEEEEEEEEEE\n",
      "Step 5\n",
      "-------------HHHHHHH------HHHHHHHHHHHHHHH----------HHHHHHHHHHHHHHHH------------HHH---------HH--------------------------------------------------------------------------------------------------------------------------------\n",
      "EEEEE------EE-------EEEEEE----------------EEEEEEEEE-------------------------------EEEEEEEEE--EEEEEEEEEEEEE-----EEEEEEEEEEEEEEEEE---EEEEEEEEEEEEEE-----EEEEEEEEEEEEEEE------------EEEEEEEEEEEEEEEEEEEE----EEEEEEEEEEEEEEEEEEEE\n",
      "Final prediction\n",
      "EEEEECCCCCCEEHHHHHHHEEEEEEHHHHHHHHHHHHHHHCEEEEEEEEEHHHHHHHHHHHHHHHHCCCCCCCCCCCCHHHEEEEEEEEEHHEEEEEEEEEEEEECCCCCEEEEEEEEEEEEEEEEECCCEEEEEEEEEEEEEECCCCCEEEEEEEEEEEEEEECCCCCCCCCCCCEEEEEEEEEEEEEEEEEEEECCCCEEEEEEEEEEEEEEEEEEEE\n",
      "protein:  1GD6: KTFTRCGLVHELRKHGFEENLMRNWVCLVEHESSRDTSKTNTNRNGSKDYGLFQINDRYWCSKGASPGKDCNVKCSDLLTDDITKAAKCAKKIYKRHRFDAWYGWKNHCQGSLPDISSC\n",
      "structure:  1GD6: CECCHHHHHHHHHHCCCCHHHHHHHHHHHHHHCCCECCCEEECCCCCEEECCCCEECCCCCECCCCCECCCCEEHHHHCCCCCHHHHHHHHHHHHHHHHHHCHHHHCCCCCCCCCCCCC\n",
      "Steps 1 to 4\n",
      "------HHHHHHHHHHHHHHHHHHHHHHHHHHH----------------HHHHHHHHH----------HHHHHH-------HHHHHHHHHHHHHHH----HHHHHHHHHH---------\n",
      "EEEEEEEEEEEE--------EEEEEEEEEEE-----------------EEEEEEEEEEEEEEE-------EEEEEEEEEEEEEE--------------EEEEEEEE--EEEEE------\n",
      "Step 5\n",
      "------HHHHHHHHHHHHHH-----------HHHH---------------------------------H------------HHHHHHHHHHHHHHH----------HH-----------\n",
      "EEEEEE--------------EEEEEEEEEEE-----------------EEEEEEEEEEEEEEE------EEEEEEEEEEEE---------------EEEEEEEEEE--EEEEE------\n",
      "Final prediction\n",
      "EEEEEEHHHHHHHHHHHHHHEEEEEEEEEEEHHHHCCCCCCCCCCCCCEEEEEEEEEEEEEEECCCCCHEEEEEEEEEEEEHHHHHHHHHHHHHHHEEEEEEEEEEHHEEEEECCCCCC\n",
      "protein:  3QJD: VLSPADKTNVKAAWGKVGAHAGEYGAEALERMFLSFPTTKTYFPHFDLSHGSAQVKGLGKKVADALTNAVAHVDDMPNALSALSDLHAHKLRVDPVNFKLLSHCLLVTLAAHLPAEFTPAVHASLDKFLASVSTVLTSKYR\n",
      "structure:  3QJD: CCCHHHHHHHHHHHHHHHHHHHHHHHHHHHHHHHHCHHHHHHCCCCCCCCCCHHHHHHHHHHHHHHHHHHHCHHHHHHHCHHHHHHHHHCCCCCCHHHHHHHHHHHHHHHHHCCCCCCHHHHHHHHHHHHHHHHHHHCCCC\n",
      "Steps 1 to 4\n",
      "----HHHHHHHHHHHHHHHHH-HHHHHHHHHHHHHHH-------------HHHHHHHHHHHHHHHHHHHHHHHHHHHHHHHHHH-HHHHHHHHHHHHHHHHHHHHHHHHHHHHHHHHHHHHHHHHHHHHHHHH--------\n",
      "----------------------------EEEEEEEEEEEEEEEEEE-------EEEEE-------EEEEE-------------------------EEEEEEEEEEEEEEEE-----EEEEE---EEEEEEEEEEEEEEEE-\n",
      "Step 5\n",
      "----HHHHHHHHHHHHHHHHHHHHHHHHHHHHHHHHH-------------HHHHHHHHHHHHHHH-----HHHHHHHHHHHHHHHHHHHHHHHH-----------------HHHHH-----HHH-----------------\n",
      "-------------------------------------EEEEEEEEE-------------------EEEEE------------------------EEEEEEEEEEEEEEEEE-----EEEEE---EEEEEEEEEEEEEEEE-\n",
      "Final prediction\n",
      "CCCCHHHHHHHHHHHHHHHHHHHHHHHHHHHHHHHHHEEEEEEEEECCCCHHHHHHHHHHHHHHHEEEEEHHHHHHHHHHHHHHHHHHHHHHHHEEEEEEEEEEEEEEEEEHHHHHEEEEEHHHEEEEEEEEEEEEEEEEC\n",
      "protein:  3HU9: MNIFEMLRIDEGLRLKIYKDTEGYYTIGIGHLLTKSPDLNAAKSELDKAIGRNCNGVITKDEAEKLFNQDVDAAVRGILRNAKLKPVYDSLDAVRRCAAINQVFQMGETGVAGFTNSLRMLQQKRWDEAAVNLAKSRWYNQTPDRAKRVITTFRTGTWDAYK\n",
      "structure:  3HU9: CCHHHHHHHHHCCEEEEEECCCCCEEEECCEECCCCCCHHHHHHHHHHHHCCCCCCECCHHHHHHHHHHHHHHHHHHHHHCCCCHHHHHHCCHHHHHHHHHHHHHHHHHHHHCCHHHHHHHHCCCHHHHHHHHHCCHHHHHCHHHHHHHHHHHHHCCCHHHC\n",
      "Steps 1 to 4\n",
      "HHHHHHHHHHHHHHHHHHHH----------------HHHHHHHHHHHHHHHHHHHHHHHHHHHHHHHHHHHHHHHHHHHHHHHHHHHH-------HHHHHHHHHHHHHH-HHHHHHHHHHHHHHHHHHHHHHHHHHHH------HHHHHHH-----------\n",
      "EEEEEEEEEE--EEEEEEEEEEEEEEEEEEEEEEEE-----------------EEEEEEEE---EEEEEEE---EEEEE----EEEEEEEE-------EEEEEEEEEEE-EEEEEEEEEEEEEEEE----------EEEEEEE---EEEEEEEEEEEEEEE-\n",
      "Step 5\n",
      "HHHHHHHHHHHHHHHHHHHH----------------HHHHHHHHHHHHHHHHH--------HHH-----------------HH-----------HHHHHHHHHHHHHHH-HHHHHHHHHHHHHHHHHHHHHHHHHHHH-----HH-----------------\n",
      "--------------------EEEEEEEEEEEEEEEE-----------------EEEEEEEE---EEEEEEEEEEEEEEEEE--EEEEEEEE------------------E----------------------------EEEEE--EEEEEEEEEEEEEEEE-\n",
      "Final prediction\n",
      "HHHHHHHHHHHHHHHHHHHHEEEEEEEEEEEEEEEEHHHHHHHHHHHHHHHHHEEEEEEEEHHHEEEEEEEEEEEEEEEEEHHEEEEEEEECCCHHHHHHHHHHHHHHHEHHHHHHHHHHHHHHHHHHHHHHHHHHHHEEEEEHHEEEEEEEEEEEEEEEEC\n",
      "protein:  1FRT: AEPRLPLMYHLAAVSDLSTGLPSFWATGWLGAQQYLTYNNLRQEADPCGAWIWENQVSWYWEKETTDLKSKEQLFLEAIRTLENQINGTFTLQGLLGCELAPDNSSLPTAVFALNGEEFMRFNPRTGNWSGEWPETDIVGNLWMKQPEAARKESEFLLTSCPERLLGHLERGRQNLEWKEPPSMRLKARPGNSGSSVLTCAAFSFYPPELKFRFLRNGLASGSGNCSTGPNGDGSFHAWSLLEVKRGDEHHYQCQVEHEGLAQPLTVDL\n",
      "structure:  1FRT: CCCCCCEEEEEEEECCCCCCCCCEEEEEEECCEEEEEEECCCCCCEECHHHHHCCCCCCHHHHHHHHHHHHHHHHHHHHHHHHHHCCCCCEEEEEEEEEECCCCCEEEEEEEEECCEEEEEEECCCCEEEECCHHHHHHHHHHHCCCHHHHHHHHHHHCHHHHHHHHHHHHCHHHHCCCECCEEEEEEEECCCCEEEEEEEEEEEECCCCEEEEEECCEECCCCEEEEEECCCCCEEEEEEEEEECCCHHHEEEEEECCCCCCCEEECC\n",
      "Steps 1 to 4\n",
      "------HHHHHHHHHHH---HHHHHHHHHHHHHHHHHHHHHHHHHH-HHHHHHHHHHHHHHHHHHHHHHHHHHHHHHHHHHHHHHHHHHHHHHHHHHHHHHHHH--HHHHHHHHHHHHHHHHHH---HHHHHH---HHHHHHHHHHHHHHHHHHHHHHHH----HHHHHH-HHHHHHHHHHHHHHHHHH-------HHHHHHHHHHHHHHHHHHHHHHHH---------------HHHHHHHHHHHH----HHHHHHHHHHHHHHHH--\n",
      "---EEEEEEEEE----EEEEEEEEEEEEEEEEEEEEEEEEE------EEEEEEEEEEEEEEEEEEEEEE-EEEEEEEEEEEEEEEEEEEEEEEEEEEEEE------EEEEEEEEE--EEEEEE-----------EEEEEEEEEEEEE------EEEEEEEEE--EEEEE----EEEEE----------------EEEEEEEEEEEEE--EEEEEEE---------------------EEEEEEEE----EEEEEEEEE--EEEEEEEEE\n",
      "Step 5\n",
      "------HHHHHHHHHHH------------------------HHHHHHHHHHHHHHHHHHHHHHHHHHHHHHHHHHHHHHHHHHHHHHHHHHHHHHHHHHHHHHH--HHHHHHHHHHHHHHHHHH---HHHHHH---HHHHHHHHHHHHHHHHHHHHHHHH---------HHHHHHHHHHHHHHHHHHHHH-----------------HH--------HHH--------------HHHHHHHHHHHHH-----------HH---------\n",
      "---EEE-----------EEEEEEEEEEEEEEEEEEEEEEEE---------------------------------------------------------------------------------------------EE------------------------EE-EEEEEE-------------------------EEEEEEEEEEEEE--EEEEEEEE--------------------------------EEEEEEEEE--EEEEEEEEE\n",
      "Final prediction\n",
      "CCCEEEHHHHHHHHHHHEEEEEEEEEEEEEEEEEEEEEEEEHHHHHHHHHHHHHHHHHHHHHHHHHHHHHHHHHHHHHHHHHHHHHHHHHHHHHHHHHHHHHHHCCHHHHHHHHHHHHHHHHHHCCCHHHHHHCEEHHHHHHHHHHHHHHHHHHHHHHHHEECEEEEEEHHHHHHHHHHHHHHHHHHHHHCCCCEEEEEEEEEEEEEHHEEEEEEEEHHHCCCCCCCCCCCCCCHHHHHHHHHHHHHCCEEEEEEEEEHHEEEEEEEEE\n",
      "alpha-helix Accuracy 62.06%\n"
     ]
    }
   ],
   "source": [
    "atp = 0  # number of true positives (correctly identified calls)\n",
    "atn = 0  # number of true negatives (correctly missed no-calls)\n",
    "afp = 0  # number of false positives (incorrectly identified no-calls)\n",
    "afn = 0  # number of false negatives (incorrectly missed calls)\n",
    "\n",
    "btp = 0\n",
    "btn = 0\n",
    "bfp = 0\n",
    "bfn = 0\n",
    "tp = 0\n",
    "tn = 0\n",
    "fp = 0\n",
    "fn = 0\n",
    "\n",
    "for index in range(5):\n",
    "    protein = prot2[index]\n",
    "    structure = sstr3[index]\n",
    "    print(\"protein: \", protein)\n",
    "    print(\"structure: \", structure)\n",
    "    \n",
    "    print(\"Steps 1 to 4\")\n",
    "    # Step 2: Alpha-helix\n",
    "    alpha = getScores(protein, 0) # values from column 0\n",
    "    beta = getScores(protein, 1) # values from column 1\n",
    "    calls_a1 = markCountAbove(alpha, width=6, call_cnt=4)\n",
    "    print(makesstr(calls_a1, 'H'))\n",
    "    \n",
    "    calls_a2 = extendDownstream(alpha, calls_a1, width=4)\n",
    "    calls_a3 = extendUpstream(alpha, calls_a2, width=4)\n",
    "\n",
    "    calls_b1 = markCountAbove(beta, width=5, call_cnt=3)\n",
    "    print(makesstr(calls_b1, 'E'))\n",
    "    calls_b2 = extendDownstream(beta, calls_b1, width=4)\n",
    "    calls_b3 = extendUpstream(beta, calls_b2, width=4)\n",
    "\n",
    "    avg_a = calcRegionAverage(alpha, calls_a3)\n",
    "    avg_b = calcRegionAverage(beta, calls_b3)\n",
    "\n",
    "    diff_a = [avg_a[i] - avg_b[i] for i in range(len(avg_a))]\n",
    "    diff_b = [avg_b[i] - avg_a[i] for i in range(len(avg_a))]\n",
    "    \n",
    "    print(\"Step 5\")\n",
    "    calls_a4 = checkSupport(calls_a3, diff_a)\n",
    "    calls_b4 = checkSupport(calls_b3, diff_b)\n",
    "    print(makesstr(calls_a4, 'H'))\n",
    "    print(makesstr(calls_b4, 'E'))\n",
    "    \n",
    "    print(\"Final prediction\")\n",
    "    # Combine calls and replace remaining '-' symbols to C (coil)\n",
    "    prediction = predicted_sequence = ''.join(['H' if alpha else ('E' if beta else 'C') for (alpha, beta) in zip(calls_a4, calls_b4)])\n",
    "    print(prediction)\n",
    "    \n",
    "    position = 0\n",
    "    for element in structure.sequence:\n",
    "        if element == \"H\" and calls_a4[position]:\n",
    "            atp += 1 # matched alpha helix\n",
    "        if element != \"H\" and not(calls_a4[position]):\n",
    "            atn += 1 # matched beta sheet\n",
    "        if element != \"H\" and calls_a4[position]:\n",
    "            afp += 1 # matched beta sheet\n",
    "        if element == \"H\" and not(calls_a4[position]):\n",
    "            afn += 1 # matched beta sheet\n",
    "        position += 1\n",
    "        \n",
    "    position = 0\n",
    "    for element in structure.sequence:\n",
    "        if element == \"E\" and calls_b4[position]:\n",
    "            btp += 1 # matched alpha helix\n",
    "        if element != \"E\" and not(calls_b4[position]):\n",
    "            btn += 1 # matched beta sheet\n",
    "        if element != \"E\" and calls_b4[position]:\n",
    "            bfp += 1 # matched beta sheet\n",
    "        if element == \"E\" and not(calls_b4[position]):\n",
    "            bfn += 1 # matched beta sheet\n",
    "        position += 1\n",
    "\n",
    "####### Accuracy calculations #######\n",
    "print(\"alpha-helices True  Positive = %d\" % atp)\n",
    "print(\"alpha-helices True  Negative = %d\" % atn)\n",
    "print(\"alpha-helices False Positive = %d\" % afp)\n",
    "print(\"alpha-helices False Negative = %d\" % afn)\n",
    "print(\"alpha-helix Accuracy %.2f%%\" % ((float((atp+atn) /  (atp+atn+afp+afn)) * 100)))\n",
    "\n",
    "print(\"beta-strands True  Positive = %d\" % btp)\n",
    "print(\"beta-strands True  Negative = %d\" % btn)\n",
    "print(\"beta-strands False Positive = %d\" % bfp)\n",
    "print(\"beta-strands False Negative = %d\" % bfn)\n",
    "print(\"beta-strands Accuracy %.2f%%\" % ((float((btp+btn) /  (btp+btn+bfp+bfn)) * 100)))"
   ]
  },
  {
   "cell_type": "code",
   "execution_count": 23,
   "metadata": {},
   "outputs": [
    {
     "name": "stdout",
     "output_type": "stream",
     "text": [
      "0\n",
      "2ZPR: IVGGYECKAYSQPHQVSLNSGYHFCGGSLVNENWVVSAAHCYKSRVAVRLGEHNIKVTEGSEQFISSSRVIRHPNYSSYNIDNDIMLIKLSKPATLNTYVQPVALPSSCAPAGTMCTVSGWGNTMSSTADGDKLQCLNIPILSYSDCNNSYPGMITNAMFCAGYLEGGKDSCQGDSGGPVVCNGELQGVVSWGYGCAEPGNPGVYAKVCIFNDWLTSTMAT\n",
      "2ZPR: CECCEECCCCCCCCEEEEECCCEEEEEEECCCCEEEECHHHCCCCCEEEECCCECCCCCCCCEEEEEEEEEECCCCEHHHCECCCEEEEECCCCCCCCCCCCCECCCCCCCCCCEEEEEECCCCCCCCCCCCECEEEEEEECCHHHHHHHCCCCCCCCEEEECCCCCCCECCCCCCCCEEEECCEEEEEEEECCCCCCCCCCEEEEEHHHHHHHHHHHHHC\n",
      "[False, False, False, False, False, False, False, False, False, False, False, False, False, False, False, False, False, False, False, False, False, False, False, False, False, False, False, False, False, False, False, False, False, False, False, False, False, False, True, True, True, False, False, False, False, False, False, False, False, False, False, False, False, False, False, False, False, False, False, False, False, False, False, False, False, False, False, False, False, False, False, False, False, False, False, False, False, True, True, True, False, False, False, False, False, False, False, False, False, False, False, False, False, False, False, False, False, False, False, False, False, False, False, False, False, False, False, False, False, False, False, False, False, False, False, False, False, False, False, False, False, False, False, False, False, False, False, False, False, False, False, False, False, False, False, False, False, False, False, False, False, False, False, True, True, True, True, True, True, True, False, False, False, False, False, False, False, False, False, False, False, False, False, False, False, False, False, False, False, False, False, False, False, False, False, False, False, False, False, False, False, False, False, False, False, False, False, False, False, False, False, False, False, False, False, False, False, False, False, False, False, False, False, False, False, False, False, True, True, True, True, True, True, True, True, True, True, True, True, True, False]\n",
      "[False, True, False, False, True, True, False, False, False, False, False, False, False, False, True, True, True, True, True, False, False, False, True, True, True, True, True, True, True, False, False, False, False, True, True, True, True, False, False, False, False, False, False, False, False, False, True, True, True, True, False, False, False, True, False, False, False, False, False, False, False, False, True, True, True, True, True, True, True, True, True, True, False, False, False, False, True, False, False, False, False, True, False, False, False, True, True, True, True, True, False, False, False, False, False, False, False, False, False, False, False, False, False, True, False, False, False, False, False, False, False, False, False, False, True, True, True, True, True, True, False, False, False, False, False, False, False, False, False, False, False, False, True, False, True, True, True, True, True, True, True, False, False, False, False, False, False, False, False, False, False, False, False, False, False, False, False, False, True, True, True, True, False, False, False, False, False, False, False, True, False, False, False, False, False, False, False, False, True, True, True, True, False, False, True, True, True, True, True, True, True, True, False, False, False, False, False, False, False, False, False, False, True, True, True, True, True, False, False, False, False, False, False, False, False, False, False, False, False, False, False]\n",
      "[True, False, True, True, False, False, True, True, True, True, True, True, True, True, False, False, False, False, False, True, True, True, False, False, False, False, False, False, False, True, True, True, True, False, False, False, False, True, False, False, False, True, True, True, True, True, False, False, False, False, True, True, True, False, True, True, True, True, True, True, True, True, False, False, False, False, False, False, False, False, False, False, True, True, True, True, False, False, False, False, True, False, True, True, True, False, False, False, False, False, True, True, True, True, True, True, True, True, True, True, True, True, True, False, True, True, True, True, True, True, True, True, True, True, False, False, False, False, False, False, True, True, True, True, True, True, True, True, True, True, True, True, False, True, False, False, False, False, False, False, False, True, True, False, False, False, False, False, False, False, True, True, True, True, True, True, True, True, False, False, False, False, True, True, True, True, True, True, True, False, True, True, True, True, True, True, True, True, False, False, False, False, True, True, False, False, False, False, False, False, False, False, True, True, True, True, True, True, True, True, True, True, False, False, False, False, False, False, False, False, False, False, False, False, False, False, False, False, False, False, True]\n",
      "1\n",
      "1GD6: KTFTRCGLVHELRKHGFEENLMRNWVCLVEHESSRDTSKTNTNRNGSKDYGLFQINDRYWCSKGASPGKDCNVKCSDLLTDDITKAAKCAKKIYKRHRFDAWYGWKNHCQGSLPDISSC\n",
      "1GD6: CECCHHHHHHHHHHCCCCHHHHHHHHHHHHHHCCCECCCEEECCCCCEEECCCCEECCCCCECCCCCECCCCEEHHHHCCCCCHHHHHHHHHHHHHHHHHHCHHHHCCCCCCCCCCCCC\n",
      "[False, False, False, False, True, True, True, True, True, True, True, True, True, True, False, False, False, False, True, True, True, True, True, True, True, True, True, True, True, True, True, True, False, False, False, False, False, False, False, False, False, False, False, False, False, False, False, False, False, False, False, False, False, False, False, False, False, False, False, False, False, False, False, False, False, False, False, False, False, False, False, False, False, False, True, True, True, True, False, False, False, False, False, True, True, True, True, True, True, True, True, True, True, True, True, True, True, True, True, True, True, False, True, True, True, True, False, False, False, False, False, False, False, False, False, False, False, False, False]\n",
      "[False, True, False, False, False, False, False, False, False, False, False, False, False, False, False, False, False, False, False, False, False, False, False, False, False, False, False, False, False, False, False, False, False, False, False, True, False, False, False, True, True, True, False, False, False, False, False, True, True, True, False, False, False, False, True, True, False, False, False, False, False, True, False, False, False, False, False, True, False, False, False, False, True, True, False, False, False, False, False, False, False, False, False, False, False, False, False, False, False, False, False, False, False, False, False, False, False, False, False, False, False, False, False, False, False, False, False, False, False, False, False, False, False, False, False, False, False, False, False]\n",
      "[True, False, True, True, False, False, False, False, False, False, False, False, False, False, True, True, True, True, False, False, False, False, False, False, False, False, False, False, False, False, False, False, True, True, True, False, True, True, True, False, False, False, True, True, True, True, True, False, False, False, True, True, True, True, False, False, True, True, True, True, True, False, True, True, True, True, True, False, True, True, True, True, False, False, False, False, False, False, True, True, True, True, True, False, False, False, False, False, False, False, False, False, False, False, False, False, False, False, False, False, False, True, False, False, False, False, True, True, True, True, True, True, True, True, True, True, True, True, True]\n",
      "2\n",
      "3QJD: VLSPADKTNVKAAWGKVGAHAGEYGAEALERMFLSFPTTKTYFPHFDLSHGSAQVKGLGKKVADALTNAVAHVDDMPNALSALSDLHAHKLRVDPVNFKLLSHCLLVTLAAHLPAEFTPAVHASLDKFLASVSTVLTSKYR\n",
      "3QJD: CCCHHHHHHHHHHHHHHHHHHHHHHHHHHHHHHHHCHHHHHHCCCCCCCCCCHHHHHHHHHHHHHHHHHHHCHHHHHHHCHHHHHHHHHCCCCCCHHHHHHHHHHHHHHHHHCCCCCCHHHHHHHHHHHHHHHHHHHCCCC\n",
      "[False, False, False, True, True, True, True, True, True, True, True, True, True, True, True, True, True, True, True, True, True, True, True, True, True, True, True, True, True, True, True, True, True, True, True, False, True, True, True, True, True, True, False, False, False, False, False, False, False, False, False, False, True, True, True, True, True, True, True, True, True, True, True, True, True, True, True, True, True, True, True, False, True, True, True, True, True, True, True, False, True, True, True, True, True, True, True, True, True, False, False, False, False, False, False, True, True, True, True, True, True, True, True, True, True, True, True, True, True, True, True, True, False, False, False, False, False, False, True, True, True, True, True, True, True, True, True, True, True, True, True, True, True, True, True, True, True, False, False, False, False]\n",
      "[False, False, False, False, False, False, False, False, False, False, False, False, False, False, False, False, False, False, False, False, False, False, False, False, False, False, False, False, False, False, False, False, False, False, False, False, False, False, False, False, False, False, False, False, False, False, False, False, False, False, False, False, False, False, False, False, False, False, False, False, False, False, False, False, False, False, False, False, False, False, False, False, False, False, False, False, False, False, False, False, False, False, False, False, False, False, False, False, False, False, False, False, False, False, False, False, False, False, False, False, False, False, False, False, False, False, False, False, False, False, False, False, False, False, False, False, False, False, False, False, False, False, False, False, False, False, False, False, False, False, False, False, False, False, False, False, False, False, False, False, False]\n",
      "[True, True, True, False, False, False, False, False, False, False, False, False, False, False, False, False, False, False, False, False, False, False, False, False, False, False, False, False, False, False, False, False, False, False, False, True, False, False, False, False, False, False, True, True, True, True, True, True, True, True, True, True, False, False, False, False, False, False, False, False, False, False, False, False, False, False, False, False, False, False, False, True, False, False, False, False, False, False, False, True, False, False, False, False, False, False, False, False, False, True, True, True, True, True, True, False, False, False, False, False, False, False, False, False, False, False, False, False, False, False, False, False, True, True, True, True, True, True, False, False, False, False, False, False, False, False, False, False, False, False, False, False, False, False, False, False, False, True, True, True, True]\n",
      "3\n",
      "3HU9: MNIFEMLRIDEGLRLKIYKDTEGYYTIGIGHLLTKSPDLNAAKSELDKAIGRNCNGVITKDEAEKLFNQDVDAAVRGILRNAKLKPVYDSLDAVRRCAAINQVFQMGETGVAGFTNSLRMLQQKRWDEAAVNLAKSRWYNQTPDRAKRVITTFRTGTWDAYK\n",
      "3HU9: CCHHHHHHHHHCCEEEEEECCCCCEEEECCEECCCCCCHHHHHHHHHHHHCCCCCCECCHHHHHHHHHHHHHHHHHHHHHCCCCHHHHHHCCHHHHHHHHHHHHHHHHHHHHCCHHHHHHHHCCCHHHHHHHHHCCHHHHHCHHHHHHHHHHHHHCCCHHHC\n",
      "[False, False, True, True, True, True, True, True, True, True, True, False, False, False, False, False, False, False, False, False, False, False, False, False, False, False, False, False, False, False, False, False, False, False, False, False, False, False, True, True, True, True, True, True, True, True, True, True, True, True, False, False, False, False, False, False, False, False, False, True, True, True, True, True, True, True, True, True, True, True, True, True, True, True, True, True, True, True, True, True, False, False, False, False, True, True, True, True, True, True, False, False, True, True, True, True, True, True, True, True, True, True, True, True, True, True, True, True, True, True, True, True, False, False, True, True, True, True, True, True, True, True, False, False, False, True, True, True, True, True, True, True, True, True, False, False, True, True, True, True, True, False, True, True, True, True, True, True, True, True, True, True, True, True, True, False, False, False, True, True, True, False]\n",
      "[False, False, False, False, False, False, False, False, False, False, False, False, False, True, True, True, True, True, True, False, False, False, False, False, True, True, True, True, False, False, True, True, False, False, False, False, False, False, False, False, False, False, False, False, False, False, False, False, False, False, False, False, False, False, False, False, True, False, False, False, False, False, False, False, False, False, False, False, False, False, False, False, False, False, False, False, False, False, False, False, False, False, False, False, False, False, False, False, False, False, False, False, False, False, False, False, False, False, False, False, False, False, False, False, False, False, False, False, False, False, False, False, False, False, False, False, False, False, False, False, False, False, False, False, False, False, False, False, False, False, False, False, False, False, False, False, False, False, False, False, False, False, False, False, False, False, False, False, False, False, False, False, False, False, False, False, False, False, False, False, False, False]\n",
      "[True, True, False, False, False, False, False, False, False, False, False, True, True, False, False, False, False, False, False, True, True, True, True, True, False, False, False, False, True, True, False, False, True, True, True, True, True, True, False, False, False, False, False, False, False, False, False, False, False, False, True, True, True, True, True, True, False, True, True, False, False, False, False, False, False, False, False, False, False, False, False, False, False, False, False, False, False, False, False, False, True, True, True, True, False, False, False, False, False, False, True, True, False, False, False, False, False, False, False, False, False, False, False, False, False, False, False, False, False, False, False, False, True, True, False, False, False, False, False, False, False, False, True, True, True, False, False, False, False, False, False, False, False, False, True, True, False, False, False, False, False, True, False, False, False, False, False, False, False, False, False, False, False, False, False, True, True, True, False, False, False, True]\n",
      "4\n",
      "1FRT: AEPRLPLMYHLAAVSDLSTGLPSFWATGWLGAQQYLTYNNLRQEADPCGAWIWENQVSWYWEKETTDLKSKEQLFLEAIRTLENQINGTFTLQGLLGCELAPDNSSLPTAVFALNGEEFMRFNPRTGNWSGEWPETDIVGNLWMKQPEAARKESEFLLTSCPERLLGHLERGRQNLEWKEPPSMRLKARPGNSGSSVLTCAAFSFYPPELKFRFLRNGLASGSGNCSTGPNGDGSFHAWSLLEVKRGDEHHYQCQVEHEGLAQPLTVDL\n",
      "1FRT: CCCCCCEEEEEEEECCCCCCCCCEEEEEEECCEEEEEEECCCCCCEECHHHHHCCCCCCHHHHHHHHHHHHHHHHHHHHHHHHHHCCCCCEEEEEEEEEECCCCCEEEEEEEEECCEEEEEEECCCCEEEECCHHHHHHHHHHHCCCHHHHHHHHHHHCHHHHHHHHHHHHCHHHHCCCECCEEEEEEEECCCCEEEEEEEEEEEECCCCEEEEEECCEECCCCEEEEEECCCCCEEEEEEEEEECCCHHHEEEEEECCCCCCCEEECC\n",
      "[False, False, False, False, False, False, False, False, False, False, False, False, False, False, False, False, False, False, False, False, False, False, False, False, False, False, False, False, False, False, False, False, False, False, False, False, False, False, False, False, False, False, False, False, False, False, False, False, True, True, True, True, True, False, False, False, False, False, False, True, True, True, True, True, True, True, True, True, True, True, True, True, True, True, True, True, True, True, True, True, True, True, True, True, True, False, False, False, False, False, False, False, False, False, False, False, False, False, False, False, False, False, False, False, False, False, False, False, False, False, False, False, False, False, False, False, False, False, False, False, False, False, False, False, False, False, False, False, False, False, False, False, False, True, True, True, True, True, True, True, True, True, True, True, False, False, False, True, True, True, True, True, True, True, True, True, True, True, False, True, True, True, True, True, True, True, True, True, True, True, True, False, True, True, True, True, False, False, False, False, False, False, False, False, False, False, False, False, False, False, False, False, False, False, False, False, False, False, False, False, False, False, False, False, False, False, False, False, False, False, False, False, False, False, False, False, False, False, False, False, False, False, False, False, False, False, False, False, False, False, False, False, False, False, False, False, False, False, False, False, False, False, False, False, False, False, False, False, True, True, True, False, False, False, False, False, False, False, False, False, False, False, False, False, False, False, False, False, False]\n",
      "[False, False, False, False, False, False, True, True, True, True, True, True, True, True, False, False, False, False, False, False, False, False, False, True, True, True, True, True, True, True, False, False, True, True, True, True, True, True, True, False, False, False, False, False, False, True, True, False, False, False, False, False, False, False, False, False, False, False, False, False, False, False, False, False, False, False, False, False, False, False, False, False, False, False, False, False, False, False, False, False, False, False, False, False, False, False, False, False, False, False, True, True, True, True, True, True, True, True, True, True, False, False, False, False, False, True, True, True, True, True, True, True, True, True, False, False, True, True, True, True, True, True, True, False, False, False, False, True, True, True, True, False, False, False, False, False, False, False, False, False, False, False, False, False, False, False, False, False, False, False, False, False, False, False, False, False, False, False, False, False, False, False, False, False, False, False, False, False, False, False, False, False, False, False, False, False, False, False, False, True, False, False, True, True, True, True, True, True, True, True, False, False, False, False, True, True, True, True, True, True, True, True, True, True, True, True, False, False, False, False, True, True, True, True, True, True, False, False, True, True, False, False, False, False, True, True, True, True, True, True, False, False, False, False, False, True, True, True, True, True, True, True, True, True, True, False, False, False, False, False, False, True, True, True, True, True, True, False, False, False, False, False, False, False, True, True, True, False, False]\n",
      "[True, True, True, True, True, True, False, False, False, False, False, False, False, False, True, True, True, True, True, True, True, True, True, False, False, False, False, False, False, False, True, True, False, False, False, False, False, False, False, True, True, True, True, True, True, False, False, True, False, False, False, False, False, True, True, True, True, True, True, False, False, False, False, False, False, False, False, False, False, False, False, False, False, False, False, False, False, False, False, False, False, False, False, False, False, True, True, True, True, True, False, False, False, False, False, False, False, False, False, False, True, True, True, True, True, False, False, False, False, False, False, False, False, False, True, True, False, False, False, False, False, False, False, True, True, True, True, False, False, False, False, True, True, False, False, False, False, False, False, False, False, False, False, False, True, True, True, False, False, False, False, False, False, False, False, False, False, False, True, False, False, False, False, False, False, False, False, False, False, False, False, True, False, False, False, False, True, True, True, False, True, True, False, False, False, False, False, False, False, False, True, True, True, True, False, False, False, False, False, False, False, False, False, False, False, False, True, True, True, True, False, False, False, False, False, False, True, True, False, False, True, True, True, True, False, False, False, False, False, False, True, True, True, True, True, False, False, False, False, False, False, False, False, False, False, True, True, True, False, False, False, False, False, False, False, False, False, True, True, True, True, True, True, True, False, False, False, True, True]\n",
      "True  Positive = 128\n",
      "True  Negative = 822\n",
      "False Positive = 784\n",
      "False Negative = 1002\n",
      "Accuracy = 34.72%\n"
     ]
    }
   ],
   "source": [
    "tp = 0  # number of true positives (correctly identified calls)\n",
    "tn = 0  # number of true negatives (correctly missed no-calls)\n",
    "fp = 0  # number of false positives (incorrectly identified no-calls)\n",
    "fn = 0  # number of false negatives (incorrectly missed calls)\n",
    "\n",
    "for index in range(5):\n",
    "    print(index)\n",
    "    myprot = prot2[index]\n",
    "    print(myprot)\n",
    "    mysstr = sstr3[index]\n",
    "    print(mysstr)\n",
    "    myalpha = [sym == 'H' for sym in sstr3[index]]\n",
    "    mybeta = [sym == 'E' for sym in sstr3[index]]\n",
    "    coils = [sym == 'C' for sym in sstr3[index]]\n",
    "    \n",
    "    \"\"\"\n",
    "     1. Assign all of the residues in the peptide the appropriate set of parameters.\n",
    "    \"\"\"\n",
    "    alpha = getScores(myprot, 0)\n",
    "    beta = getScores(myprot, 1)\n",
    "    turn = getScores(myprot, 2)\n",
    "    \n",
    "    \"\"\"\n",
    "     2. Scan through the peptide and identify regions where 4 out of 6 contiguous residues have P(a-helix) > 100. \n",
    "        That region is declared an alpha-helix. \n",
    "        Extend the helix in both directions until a set of four contiguous residues that have an average P(a-helix) < 100 is reached. \n",
    "        That is declared the end of the helix. \n",
    "        If the segment defined by this procedure is longer than 5 residues and the average P(a-helix) > P(b-sheet) for that segment, \n",
    "        the segment can be assigned as a helix.\n",
    "    \n",
    "     3. Repeat this procedure to locate all of the helical regions in the sequence.\n",
    "    \"\"\"\n",
    "    calls_a1 = markCountAbove(alpha, width=6, call_cnt=4)\n",
    "    calls_a2 = extendDownstream(alpha, coils, width=4)\n",
    "    calls_a3 = extendUpstream(alpha, calls_a2, width=4)\n",
    "    \n",
    "    \"\"\" \n",
    "     4. Scan through the peptide and identify a region where 3 out of 5 of the residues have a value of P(b-sheet) > 100. \n",
    "        That region is declared as a beta-sheet. \n",
    "        Extend the sheet in both directions until a set of four contiguous residues that have an average P(b-sheet) < 100 is reached. \n",
    "        That is declared the end of the beta-sheet. \n",
    "        Any segment of the region located by this procedure is assigned as a beta-sheet \n",
    "        if the average P(b-sheet) > 105 and the average P(b-sheet) > P(a-helix) for that region.\n",
    "    \"\"\"\n",
    "    calls_b1 = markCountAbove(beta, width=5, call_cnt=3)\n",
    "    calls_b2 = extendDownstream(beta, coils, width=4)\n",
    "    calls_b3 = extendUpstream(beta, calls_b2, width=4)\n",
    "    \n",
    "    \"\"\"\n",
    "     5. Any region containing overlapping alpha-helical and beta-sheet assignments are taken to be helical \n",
    "        if the average P(a-helix) > P(b-sheet) for that region. \n",
    "        It is a beta sheet if the average P(b-sheet) > P(a-helix) for that region.\n",
    "    \"\"\"\n",
    "    avg_a = calcRegionAverage(alpha, calls_a3)\n",
    "    avg_b = calcRegionAverage(beta, calls_b3)\n",
    "    diff_a = [avg_a[i] - avg_b[i] for i in range(len(avg_a))]\n",
    "    diff_b = [avg_b[i] - avg_a[i] for i in range(len(avg_a))]\n",
    "    calls_a4 = checkSupport(calls_a3, diff_a)\n",
    "    calls_b4 = checkSupport(calls_b3, diff_b)\n",
    "    \n",
    "    # For accuracy calculation \n",
    "    i = 0\n",
    "    for call in myalpha:\n",
    "        if call == True:\n",
    "            if calls_a4[i] == True:\n",
    "                tp += 1\n",
    "            else:\n",
    "                fn += 1\n",
    "        else:\n",
    "            if calls_a4[i] == False:\n",
    "                tn += 1\n",
    "            else:\n",
    "                fp += 1\n",
    "        i += 1\n",
    "\n",
    "    i = 0\n",
    "    for call in mybeta:\n",
    "        if call == True:\n",
    "            if calls_b4[i] == True:\n",
    "                tp += 1\n",
    "            else:\n",
    "                fn += 1\n",
    "        else:\n",
    "            if calls_b4[i] == False:\n",
    "                tn += 1\n",
    "            else:\n",
    "                fp += 1\n",
    "        i += 1\n",
    "    \n",
    "    i = 0\n",
    "    for call in coils:\n",
    "        if call == True:\n",
    "            if calls_a4[i] == False and calls_b4[i] == False:\n",
    "                tp += 1\n",
    "            else:\n",
    "                fn += 1\n",
    "        else:\n",
    "            if calls_a4[i] == True or calls_b4[i] == True:\n",
    "                tn += 1\n",
    "            else:\n",
    "                fp += 1\n",
    "        i += 1\n",
    "    \n",
    "####### Accuracy calculations #######\n",
    "print(\"True  Positive = %d\" % tp)\n",
    "print(\"True  Negative = %d\" % tn)\n",
    "print(\"False Positive = %d\" % fp)\n",
    "print(\"False Negative = %d\" % fn)\n",
    "print(\"Accuracy = %.2f%%\" % (float(tp + tn) * 100 / (tp + tn + fp + fn)))"
   ]
  },
  {
   "cell_type": "code",
   "execution_count": null,
   "metadata": {},
   "outputs": [],
   "source": []
  }
 ],
 "metadata": {
  "kernelspec": {
   "display_name": "Python 3",
   "language": "python",
   "name": "python3"
  },
  "language_info": {
   "codemirror_mode": {
    "name": "ipython",
    "version": 3
   },
   "file_extension": ".py",
   "mimetype": "text/x-python",
   "name": "python",
   "nbconvert_exporter": "python",
   "pygments_lexer": "ipython3",
   "version": "3.8.3"
  }
 },
 "nbformat": 4,
 "nbformat_minor": 4
}
