{
 "cells": [
  {
   "cell_type": "code",
   "execution_count": 1,
   "metadata": {},
   "outputs": [],
   "source": [
    "from sequence import *\n",
    "from sym import *\n",
    "from sstruct import *"
   ]
  },
  {
   "cell_type": "markdown",
   "metadata": {},
   "source": [
    "#### Chou-Fasman table  \n",
    "cf_dict = {   \n",
    "     (H),  P(E),  P(T),  f(i), f(i+1), f(i+2),  f(i+3)  \n",
    "'A': ( 142,   83,   66, 0.060,  0.076,  0.035,  0.058 ),    # Alanine  \n",
    "'R': (  98,   93,   95, 0.070,  0.106,  0.099,  0.085 ),    # Arginine  \n",
    "...,  \n",
    "'V': ( 106,  170,   50, 0.062,  0.048,  0.028,  0.053 ),}   # Valine  \n",
    "\n",
    "The first three scores for each amino acid correspond to its tendency to be involved in **alpha-helices (H), beta-strands (E), and turns (T)**, respectively.\n",
    "\n",
    "The two files **prot2.fa and sstr3.fa** should refer to the same set of proteins stored as amino acid sequence and secondary structure sequence respectively."
   ]
  },
  {
   "cell_type": "code",
   "execution_count": 2,
   "metadata": {},
   "outputs": [],
   "source": [
    "# read both protein and structure sequences into lists\n",
    "prot2 = readFastaFile(\"prot2.fa\", Protein_Alphabet)\n",
    "sstr3 = readFastaFile(\"sstr3.fa\", DSSP3_Alphabet)"
   ]
  },
  {
   "cell_type": "markdown",
   "metadata": {},
   "source": [
    "#### Predicting helical structures with the markCountAbove functionOutline\n",
    "The Chou-Fasman rules are based on windows of amino acids and their scores, as secondary structure generally depends on multiple amino acids occurring together.\n",
    "To identify alpha-helices we look at 6 consecutive residues at a time and check if 4 or more have an alpha score of at least 100."
   ]
  },
  {
   "cell_type": "code",
   "execution_count": 3,
   "metadata": {},
   "outputs": [
    {
     "name": "stdout",
     "output_type": "stream",
     "text": [
      "[False, True, True, True, True, True, True, True, True, True, True, False, True, True, True, True, True, True, True, True, True, True, True, True, True, True, True, True, True, True, True, True, True, True, True, True, True, True, True, True, True, True, True, True, True, True, True, True, True, True, True, True, True, True, True, False, False, False, False, False]\n"
     ]
    }
   ],
   "source": [
    "above = markCountAbove(markCountAboveTest)\n",
    "print (above)"
   ]
  },
  {
   "cell_type": "markdown",
   "metadata": {},
   "source": [
    "#### Exercise 3 : Apply your functions to the PDB entry 2NLU\n",
    "The below protein sequence is the C-terminus of the PDB entry 2NLU starting at position 76 and onwards. Consider the helical secondary structure of its amino acid sequence PNKRKGFSEGLWEIENNPTVKASGY, which we can generate with in Python, like so:"
   ]
  },
  {
   "cell_type": "code",
   "execution_count": 4,
   "metadata": {},
   "outputs": [
    {
     "name": "stdout",
     "output_type": "stream",
     "text": [
      "the index of getScores is 0: -HHHHHHHHHHHHHHHHHHHHH---\n",
      "the index of getScores is 1: -------------------------\n",
      "the index of getScores is 2: HHHHHHHHHH-----HHHHHHHHHH\n"
     ]
    }
   ],
   "source": [
    "myprot = Sequence('PNKRKGFSEGLWEIENNPTVKASGY', Protein_Alphabet, '2NLU_r76')\n",
    "alpha = getScores(myprot, 0)\n",
    "calls_a1 = markCountAbove(alpha, width = 6, call_cnt = 4)\n",
    "print(\"the index of getScores is 0: \" + makesstr(calls_a1, 'H'))\n",
    "\n",
    "alpha = getScores(myprot, 1)\n",
    "calls_a1 = markCountAbove(alpha, width = 6, call_cnt = 4)\n",
    "print(\"the index of getScores is 1: \" + makesstr(calls_a1, 'H'))\n",
    "\n",
    "alpha = getScores(myprot, 2)\n",
    "calls_a1 = markCountAbove(alpha, width = 6, call_cnt = 4)\n",
    "print(\"the index of getScores is 2: \" + makesstr(calls_a1, 'H'))"
   ]
  },
  {
   "cell_type": "markdown",
   "metadata": {},
   "source": [
    "### Exercise 4 : Scripting the full Chou-Fasman algorithm"
   ]
  },
  {
   "cell_type": "markdown",
   "metadata": {},
   "source": [
    "the process of applying the Chou-Fasman prediction rules for alpha-helices and beta-strands"
   ]
  },
  {
   "cell_type": "code",
   "execution_count": 5,
   "metadata": {},
   "outputs": [
    {
     "name": "stdout",
     "output_type": "stream",
     "text": [
      "Steps 1 to 4\n",
      "-HHHHHHHHHHHHHHHHHHHHH---\n",
      "---------EEEEEE----------\n",
      "Step 5\n",
      "-HHHHHHHHHHHHHHHHHHHHHH--\n",
      "-------------------------\n",
      "Final prediction\n",
      "CHHHHHHHHHHHHHHHHHHHHHHCC\n"
     ]
    }
   ],
   "source": [
    "print(\"Steps 1 to 4\")\n",
    "# Step 1: Retrieve scores for each amino acid\n",
    "alpha = getScores(myprot, 0) \n",
    "beta = getScores(myprot, 1)\n",
    "\n",
    "# Step 2: Alpha-helix \n",
    "calls_a1 = markCountAbove(alpha, width = 6, call_cnt = 4) \n",
    "print(makesstr(calls_a1, 'H'))\n",
    "\n",
    "# Step 3: Alpha-helix extension\n",
    "calls_a2 = extendDownstream(alpha, calls_a1, width = 4) \n",
    "calls_a3 = extendUpstream(alpha, calls_a2, width = 4)\n",
    "\n",
    "# Step 4: Beta-sheet and extension\n",
    "calls_b1 = markCountAbove(beta, width = 5, call_cnt = 3) \n",
    "print(makesstr(calls_b1, 'E'))\n",
    "calls_b2 = extendDownstream(beta, calls_b1, width = 4) \n",
    "calls_b3 = extendUpstream(beta, calls_b2, width = 4)\n",
    "\n",
    "# Step 5: Resolve alpha and beta overlaps\n",
    "avg_a = calcRegionAverage(alpha, calls_a3) \n",
    "avg_b = calcRegionAverage(beta, calls_b3)\n",
    "diff_a = [avg_a[i] - avg_b[i] for i in range(len(avg_a))] \n",
    "diff_b = [avg_b[i] - avg_a[i] for i in range(len(avg_a))] \n",
    "calls_a4 = checkSupport(calls_a3, diff_a)\n",
    "calls_b4 = checkSupport(calls_b3, diff_b)\n",
    "\n",
    "print(\"Step 5\")\n",
    "print(makesstr(calls_a4, 'H'))\n",
    "print(makesstr(calls_b4, 'E'))\n",
    "\n",
    "print(\"Final prediction\")\n",
    "# Combine calls and replace remaining '-' symbols to C (coil)\n",
    "prediction = predicted_sequence = ''.join(['H' if alpha else ('E' if beta else 'C') for (alpha, beta) in zip(calls_a4, calls_b4)])\n",
    "print(prediction)"
   ]
  },
  {
   "cell_type": "markdown",
   "metadata": {},
   "source": [
    "#### Exercise 5 : Calculating baseline accuracy Outline\n",
    "What percent accuracy would you expect if you were guessing the assignment of 3-class (H, E or C) secondary structure at random, assuming that each class is equally likely?\n",
    "\n"
   ]
  },
  {
   "cell_type": "markdown",
   "metadata": {},
   "source": [
    "#### Exercise 6 : Assessing accuracy for a specific protein"
   ]
  },
  {
   "cell_type": "code",
   "execution_count": 6,
   "metadata": {},
   "outputs": [
    {
     "name": "stdout",
     "output_type": "stream",
     "text": [
      "protein:  1EVH: SEQSICQARAAVMVYDDANKKWVPAGGSTGFSRVHIYHHTGNNTFRVVGRKIQDHQVVINCAIPKGLKYNQATQTFHQWRDARQVYGLNFGSKEDANVFASAMMHALEVLN\n",
      "structure:  1EVH: CEEEEEEEEEEEEEEECCCCEEEEHHHCCCCEEEEEEEECCCCEEEEEEEECCCCCEEEEEEECCCCCCECCCCCEEEEECCCCEEEEEECCHHHHHHHHHHHHHHHHHHC\n"
     ]
    }
   ],
   "source": [
    "# store protein and structure sequences in dictionary for easy retrieval\n",
    "protein_map = {}\n",
    "structure_map = {}\n",
    "\n",
    "for protein in prot2:\n",
    "    protein_map.update({protein.name:protein})\n",
    "    \n",
    "for structure in sstr3:\n",
    "    structure_map.update({structure.name:structure})\n",
    "    \n",
    "protein = protein_map.get(\"1EVH\")\n",
    "structure = structure_map.get(\"1EVH\")\n",
    "print(\"protein: \", protein)\n",
    "print(\"structure: \", structure)"
   ]
  },
  {
   "cell_type": "code",
   "execution_count": 7,
   "metadata": {},
   "outputs": [
    {
     "name": "stdout",
     "output_type": "stream",
     "text": [
      "Steps 1 to 4\n",
      "-HHHHHHHHHHHHHHHHHHHHHHHHH---------------HHHHHHHHHHHHHHHHHHHHHHHHHHHHHHHHHHHHHH----HHHHHHHHHHHHHHHHHHHHHHHHHHHH\n",
      "-EEEEEEEEEEEEEEEE---------------EEEEEEEE--EEEEEEE--EEEEEEEEEEEE---EEEEEEEEEEEEEE-EEEEEEEEE------------EEEEEEEEE\n"
     ]
    }
   ],
   "source": [
    "print(\"Steps 1 to 4\")\n",
    "# Step 2: Alpha-helix \n",
    "alpha = getScores(protein, 0) # values from column 0\n",
    "beta = getScores(protein, 1) # values from column 1\n",
    "calls_a1 = markCountAbove(alpha, width=6, call_cnt=4)\n",
    "print(makesstr(calls_a1, 'H'))\n",
    "\n",
    "calls_a2 = extendDownstream(alpha, calls_a1, width=4)\n",
    "calls_a3 = extendUpstream(alpha, calls_a2, width=4)\n",
    "\n",
    "calls_b1 = markCountAbove(beta, width=5, call_cnt=3)\n",
    "print(makesstr(calls_b1, 'E'))\n",
    "calls_b2 = extendDownstream(beta, calls_b1, width=4)\n",
    "calls_b3 = extendUpstream(beta, calls_b2, width=4)\n",
    "\n",
    "avg_a = calcRegionAverage(alpha, calls_a3)\n",
    "avg_b = calcRegionAverage(beta, calls_b3)"
   ]
  },
  {
   "cell_type": "code",
   "execution_count": 8,
   "metadata": {},
   "outputs": [
    {
     "name": "stdout",
     "output_type": "stream",
     "text": [
      "Step 5\n",
      "H-----------------HHHHHHHH---------------H----------------------H------------------HHHHHHHHHHHHHHHHHHHHHHHHHHHH\n",
      "-EEEEEEEEEEEEEEEEE------------EEEEEEEEEE--EEEEEEEEEEEEEEEEEEEEEE-EEEEEEEEEEEEEEEEEE----------------------------\n",
      "Final prediction\n",
      "HEEEEEEEEEEEEEEEEEHHHHHHHHCCCCEEEEEEEEEECHEEEEEEEEEEEEEEEEEEEEEEHEEEEEEEEEEEEEEEEEEHHHHHHHHHHHHHHHHHHHHHHHHHHHH\n"
     ]
    }
   ],
   "source": [
    "diff_a = [avg_a[i] - avg_b[i] for i in range(len(avg_a))]\n",
    "diff_b = [avg_b[i] - avg_a[i] for i in range(len(avg_a))]\n",
    "\n",
    "print(\"Step 5\")\n",
    "calls_a4 = checkSupport(calls_a3, diff_a)\n",
    "calls_b4 = checkSupport(calls_b3, diff_b)\n",
    "print(makesstr(calls_a4, 'H'))\n",
    "print(makesstr(calls_b4, 'E'))\n",
    "\n",
    "print(\"Final prediction\")\n",
    "# Combine calls and replace remaining '-' symbols to C (coil)\n",
    "prediction = predicted_sequence = ''.join(['H' if alpha else ('E' if beta else 'C') for (alpha, beta) in zip(calls_a4, calls_b4)])\n",
    "print(prediction)"
   ]
  },
  {
   "cell_type": "code",
   "execution_count": 9,
   "metadata": {},
   "outputs": [
    {
     "name": "stdout",
     "output_type": "stream",
     "text": [
      "True\n"
     ]
    }
   ],
   "source": [
    "myPrediction = prediction\n",
    "mySS = [sequence for sequence in sstr3 if sequence.name == \"1EVH\"][0]\n",
    "\n",
    "index = 15 #position to look at\n",
    "if myPrediction[index] == mySS[index]:\n",
    "    print(True)"
   ]
  },
  {
   "cell_type": "markdown",
   "metadata": {},
   "source": [
    "overall accuracy of Chou-Fasman for predicting secondary structure"
   ]
  },
  {
   "cell_type": "code",
   "execution_count": 10,
   "metadata": {},
   "outputs": [
    {
     "name": "stdout",
     "output_type": "stream",
     "text": [
      "111  structures with  68  correctly matched.\n",
      "Accuracy 61.26%\n"
     ]
    }
   ],
   "source": [
    "# to check the accuracy we simply compare our prediction to the one obtained from sstr3.fa\n",
    "position = 0\n",
    "match_count = 0\n",
    "for element in structure.sequence:\n",
    "    if element == \"H\" and calls_a4[position]:\n",
    "        match_count += 1 # matched alpha helix\n",
    "    if element == \"E\" and calls_b4[position]:\n",
    "        match_count += 1 # matched beta sheet\n",
    "    if element != \"H\" and element !=\"E\" and not(calls_a4[position]) and not(calls_b4[position]):\n",
    "        match_count += 1 # matched other\n",
    "    position += 1\n",
    "        \n",
    "print(position, \" structures with \", match_count, \" correctly matched.\")\n",
    "print(\"Accuracy %.2f%%\" % ((float(match_count) /  position) * 100))"
   ]
  },
  {
   "cell_type": "markdown",
   "metadata": {},
   "source": [
    "percent accuracy for alpha-helix predictions"
   ]
  },
  {
   "cell_type": "code",
   "execution_count": 11,
   "metadata": {},
   "outputs": [
    {
     "name": "stdout",
     "output_type": "stream",
     "text": [
      "alpha-helix Accuracy 81.98%\n"
     ]
    }
   ],
   "source": [
    "position = 0\n",
    "tp = 0  # number of true positives (correctly identified calls)\n",
    "tn = 0  # number of true negatives (correctly missed no-calls)\n",
    "fp = 0  # number of false positives (incorrectly identified no-calls)\n",
    "fn = 0  # number of false negatives (incorrectly missed calls)\n",
    "for element in structure.sequence:\n",
    "    if element == \"H\" and calls_a4[position]:\n",
    "        tp += 1 # matched alpha helix\n",
    "    if element != \"H\" and not(calls_a4[position]):\n",
    "        tn += 1 # matched beta sheet\n",
    "    if element != \"H\" and calls_a4[position]:\n",
    "        fp += 1 # matched beta sheet\n",
    "    if element == \"H\" and not(calls_a4[position]):\n",
    "        fn += 1 # matched beta sheet\n",
    "    position += 1\n",
    "\n",
    "print(\"alpha-helix Accuracy %.2f%%\" % ((float((tp+tn) /  (tp+tn+fp+fn)) * 100)))"
   ]
  },
  {
   "cell_type": "markdown",
   "metadata": {},
   "source": [
    "percent accuracy for beta-strands predictions"
   ]
  },
  {
   "cell_type": "code",
   "execution_count": 12,
   "metadata": {},
   "outputs": [
    {
     "name": "stdout",
     "output_type": "stream",
     "text": [
      "beta-strand Accuracy 70.27%\n"
     ]
    }
   ],
   "source": [
    "position = 0\n",
    "tp = 0  # number of true positives (correctly identified calls)\n",
    "tn = 0  # number of true negatives (correctly missed no-calls)\n",
    "fp = 0  # number of false positives (incorrectly identified no-calls)\n",
    "fn = 0  # number of false negatives (incorrectly missed calls)\n",
    "for element in structure.sequence:\n",
    "    if element == \"E\" and calls_b4[position]:\n",
    "        tp += 1 # matched alpha helix\n",
    "    if element != \"E\" and not(calls_b4[position]):\n",
    "        tn += 1 # matched beta sheet\n",
    "    if element != \"E\" and calls_b4[position]:\n",
    "        fp += 1 # matched beta sheet\n",
    "    if element == \"E\" and not(calls_b4[position]):\n",
    "        fn += 1 # matched beta sheet\n",
    "    position += 1\n",
    "\n",
    "print(\"beta-strand Accuracy %.2f%%\" % ((float((tp+tn) /  (tp+tn+fp+fn)) * 100)))"
   ]
  },
  {
   "cell_type": "code",
   "execution_count": 28,
   "metadata": {},
   "outputs": [
    {
     "name": "stdout",
     "output_type": "stream",
     "text": [
      "alpha-helices True  Positive = 213\n",
      "alpha-helices True  Negative = 353\n",
      "alpha-helices False Positive = 196\n",
      "alpha-helices False Negative = 150\n",
      "alpha-helix Accuracy 62.06%\n",
      "beta-strands True  Positive = 107\n",
      "beta-strands True  Negative = 418\n",
      "beta-strands False Positive = 281\n",
      "beta-strands False Negative = 106\n",
      "beta-strands Accuracy 57.57%\n",
      "coil True  Positive = 81\n",
      "coil True  Negative = 542\n",
      "coil False Positive = 34\n",
      "coil False Negative = 255\n",
      "coil Accuracy 68.31%\n",
      "True  Positive = 401\n",
      "True  Negative = 1313\n",
      "False Positive = 511\n",
      "False Negative = 511\n",
      "Accuracy 62.65%\n"
     ]
    }
   ],
   "source": [
    "atp = 0  # number of true positives (correctly identified calls)\n",
    "atn = 0  # number of true negatives (correctly missed no-calls)\n",
    "afp = 0  # number of false positives (incorrectly identified no-calls)\n",
    "afn = 0  # number of false negatives (incorrectly missed calls)\n",
    "\n",
    "btp = 0\n",
    "btn = 0\n",
    "bfp = 0\n",
    "bfn = 0\n",
    "\n",
    "ctp = 0\n",
    "ctn = 0\n",
    "cfp = 0\n",
    "cfn = 0\n",
    "tp = 0\n",
    "tn = 0\n",
    "fp = 0\n",
    "fn = 0\n",
    "\n",
    "for index in range(5):\n",
    "    protein = prot2[index]\n",
    "    structure = sstr3[index]\n",
    "#     print(\"protein: \", protein)\n",
    "#     print(\"structure: \", structure)\n",
    "    \n",
    "#     print(\"Steps 1 to 4\")\n",
    "    # Step 2: Alpha-helix\n",
    "    alpha = getScores(protein, 0) # values from column 0\n",
    "    beta = getScores(protein, 1) # values from column 1\n",
    "    calls_a1 = markCountAbove(alpha, width=6, call_cnt=4)\n",
    "#     print(makesstr(calls_a1, 'H'))\n",
    "    \n",
    "    calls_a2 = extendDownstream(alpha, calls_a1, width=4)\n",
    "    calls_a3 = extendUpstream(alpha, calls_a2, width=4)\n",
    "\n",
    "    calls_b1 = markCountAbove(beta, width=5, call_cnt=3)\n",
    "#     print(makesstr(calls_b1, 'E'))\n",
    "    calls_b2 = extendDownstream(beta, calls_b1, width=4)\n",
    "    calls_b3 = extendUpstream(beta, calls_b2, width=4)\n",
    "\n",
    "    avg_a = calcRegionAverage(alpha, calls_a3)\n",
    "    avg_b = calcRegionAverage(beta, calls_b3)\n",
    "\n",
    "    diff_a = [avg_a[i] - avg_b[i] for i in range(len(avg_a))]\n",
    "    diff_b = [avg_b[i] - avg_a[i] for i in range(len(avg_a))]\n",
    "    \n",
    "#     print(\"Step 5\")\n",
    "    calls_a4 = checkSupport(calls_a3, diff_a)\n",
    "    calls_b4 = checkSupport(calls_b3, diff_b)\n",
    "#     print(makesstr(calls_a4, 'H'))\n",
    "#     print(makesstr(calls_b4, 'E'))\n",
    "    \n",
    "#     print(\"Final prediction\")\n",
    "    # Combine calls and replace remaining '-' symbols to C (coil)\n",
    "    prediction = predicted_sequence = ''.join(['H' if alpha else ('E' if beta else 'C') for (alpha, beta) in zip(calls_a4, calls_b4)])\n",
    "#     print(prediction)\n",
    "    \n",
    "    position = 0\n",
    "    for element in structure.sequence:\n",
    "        if element == \"H\" and calls_a4[position]:\n",
    "            atp += 1 # matched alpha helix\n",
    "        if element != \"H\" and not(calls_a4[position]):\n",
    "            atn += 1 # matched beta sheet\n",
    "        if element != \"H\" and calls_a4[position]:\n",
    "            afp += 1 # matched beta sheet\n",
    "        if element == \"H\" and not(calls_a4[position]):\n",
    "            afn += 1 # matched beta sheet\n",
    "        position += 1\n",
    "        \n",
    "    position = 0\n",
    "    for element in structure.sequence:\n",
    "        if element == \"E\" and calls_b4[position]:\n",
    "            btp += 1 # matched alpha helix\n",
    "        if element != \"E\" and not(calls_b4[position]):\n",
    "            btn += 1 # matched beta sheet\n",
    "        if element != \"E\" and calls_b4[position]:\n",
    "            bfp += 1 # matched beta sheet\n",
    "        if element == \"E\" and not(calls_b4[position]):\n",
    "            bfn += 1 # matched beta sheet\n",
    "        position += 1\n",
    "        \n",
    "    position = 0\n",
    "    for element in structure.sequence:\n",
    "        if element == \"C\" and not(calls_a4[position]) and not(calls_b4[position]):\n",
    "            ctp += 1 # matched alpha helix\n",
    "        if element != \"C\" and ((calls_a4[position]) or (calls_b4[position])):\n",
    "            ctn += 1 # matched beta sheet\n",
    "        if element != \"C\" and not(calls_a4[position]) and not(calls_b4[position]):\n",
    "            cfp += 1 # matched beta sheet\n",
    "        if element == \"C\" and ((calls_a4[position]) or (calls_b4[position])):\n",
    "            cfn += 1 # matched beta sheet\n",
    "        position += 1\n",
    "        \n",
    "    tp = atp+btp+ctp\n",
    "    tn = atn+btn+ctn\n",
    "    fp = afp+bfp+cfp\n",
    "    fn = afn+bfn+cfn\n",
    "\n",
    "####### Accuracy calculations #######\n",
    "print(\"alpha-helices True  Positive = %d\" % atp)\n",
    "print(\"alpha-helices True  Negative = %d\" % atn)\n",
    "print(\"alpha-helices False Positive = %d\" % afp)\n",
    "print(\"alpha-helices False Negative = %d\" % afn)\n",
    "print(\"alpha-helix Accuracy %.2f%%\" % ((float((atp+atn) /  (atp+atn+afp+afn)) * 100)))\n",
    "\n",
    "print(\"beta-strands True  Positive = %d\" % btp)\n",
    "print(\"beta-strands True  Negative = %d\" % btn)\n",
    "print(\"beta-strands False Positive = %d\" % bfp)\n",
    "print(\"beta-strands False Negative = %d\" % bfn)\n",
    "print(\"beta-strands Accuracy %.2f%%\" % ((float((btp+btn) /  (btp+btn+bfp+bfn)) * 100)))\n",
    "\n",
    "print(\"coil True  Positive = %d\" % ctp)\n",
    "print(\"coil True  Negative = %d\" % ctn)\n",
    "print(\"coil False Positive = %d\" % cfp)\n",
    "print(\"coil False Negative = %d\" % cfn)\n",
    "print(\"coil Accuracy %.2f%%\" % ((float((ctp+ctn) /  (ctp+ctn+cfp+cfn)) * 100)))\n",
    "\n",
    "print(\"True  Positive = %d\" % tp)\n",
    "print(\"True  Negative = %d\" % tn)\n",
    "print(\"False Positive = %d\" % fp)\n",
    "print(\"False Negative = %d\" % fn)\n",
    "print(\"Accuracy %.2f%%\" % ((float((tp+tn) /  (tp+tn+fp+fn)) * 100)))"
   ]
  },
  {
   "cell_type": "code",
   "execution_count": 30,
   "metadata": {},
   "outputs": [
    {
     "data": {
      "text/plain": [
       "62.64666666666667"
      ]
     },
     "execution_count": 30,
     "metadata": {},
     "output_type": "execute_result"
    }
   ],
   "source": [
    "(62.06 + 57.57 + 68.31)/3"
   ]
  }
 ],
 "metadata": {
  "kernelspec": {
   "display_name": "Python 3",
   "language": "python",
   "name": "python3"
  },
  "language_info": {
   "codemirror_mode": {
    "name": "ipython",
    "version": 3
   },
   "file_extension": ".py",
   "mimetype": "text/x-python",
   "name": "python",
   "nbconvert_exporter": "python",
   "pygments_lexer": "ipython3",
   "version": "3.8.3"
  }
 },
 "nbformat": 4,
 "nbformat_minor": 4
}
