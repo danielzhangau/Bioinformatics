{
 "cells": [
  {
   "cell_type": "markdown",
   "metadata": {},
   "source": [
    "example of function"
   ]
  },
  {
   "cell_type": "code",
   "execution_count": 1,
   "metadata": {},
   "outputs": [],
   "source": [
    "def revString(string):  \n",
    "    print(string)\n",
    "    nString = \"\" #create an empty string  \n",
    "    for c in string[::-1]: #iterate backward over the string  \n",
    "        nString += c #add each character to the new string  \n",
    "    print(nString)"
   ]
  },
  {
   "cell_type": "code",
   "execution_count": 2,
   "metadata": {},
   "outputs": [
    {
     "name": "stdout",
     "output_type": "stream",
     "text": [
      "abcdefg\n",
      "gfedcba\n"
     ]
    }
   ],
   "source": [
    "revString('abcdefg')"
   ]
  },
  {
   "cell_type": "code",
   "execution_count": 3,
   "metadata": {
    "collapsed": true
   },
   "outputs": [
    {
     "name": "stdout",
     "output_type": "stream",
     "text": [
      "Arithmetic examples:\n",
      "0.5\n",
      "0.5\n",
      "\n",
      "Comparison examples:\n",
      "False\n",
      "\n",
      "Variable examples:\n",
      "2\n",
      "\n",
      "String examples:\n",
      "AAGGTCC\n",
      "3\n",
      "\n",
      "List examples:\n",
      "3\n",
      "['GGCGTAG', 'AGGGCCT', 'AACGTCG']\n",
      "\n",
      "If examples:\n",
      "The sequence is RNA.\n",
      "\n",
      "While loop examples:\n",
      "A\n",
      "G\n",
      "T\n",
      "G\n",
      "\n",
      "For loop examples:\n",
      "The numbers 0 to 9:\n",
      "0\n",
      "1\n",
      "2\n",
      "3\n",
      "4\n",
      "5\n",
      "6\n",
      "7\n",
      "8\n",
      "9\n",
      "Found an adenine!\n",
      "Found an adenine!\n",
      "Found an adenine!\n",
      "\n",
      "Array examples:\n",
      "[[0. 0.]\n",
      " [0. 0.]]\n",
      "[[ 0.  0.]\n",
      " [ 0. 10.]]\n",
      "\n",
      "Dictionary examples:\n",
      "A is for adenine\n",
      "G is for guanine\n",
      "C is for cytosine\n",
      "T is for thymine\n",
      "\n",
      "Standard library examples:\n",
      "1.0 equals 1!\n",
      "\n",
      "Function examples:\n",
      "neve ro ddo reven\n",
      "\n",
      "Class examples:\n",
      "Length: 12\n",
      "Adenine count: 3\n",
      "\n",
      "exercise1:\n",
      "Base counts:\n",
      "Adenine:  58\n",
      "Cytosine:  60\n",
      "Guanine:  57\n",
      "Thymine:  45\n",
      "\n",
      "exercise2:\n",
      "{'A': 58, 'C': 60, 'G': 57, 'T': 45}\n"
     ]
    }
   ],
   "source": [
    "from introduction import *\n",
    "from mysequence import *\n",
    "from guide import *"
   ]
  },
  {
   "cell_type": "code",
   "execution_count": 4,
   "metadata": {
    "scrolled": true
   },
   "outputs": [
    {
     "name": "stdout",
     "output_type": "stream",
     "text": [
      "AAAACCTCTCTGTTCAGCACTTCCTCTCTCTTGGTCTGGTCTCAACGGTCACCATGGCGAGACCCTTGGAGGAGGCCCTGGATGTAATAGTGTCCACCTTCCACAAATACTCAGGCAACGAGGGTGACAAGTTCAAGCTGAACAAGACAGAGCTCAAGGAGCTACTGACCAGGGAGCTGCCTAGCTTCCTGGGGAGAAGGACAGACGAAGCTGCATTCCA\n"
     ]
    }
   ],
   "source": [
    "print(exercise1_seq)"
   ]
  },
  {
   "cell_type": "code",
   "execution_count": 5,
   "metadata": {},
   "outputs": [
    {
     "name": "stdout",
     "output_type": "stream",
     "text": [
      "Base counts:\n",
      "Adenine: 58\n",
      "Cytosine: 60\n",
      "Guanine: 57\n",
      "Thymine: 45\n",
      "\n"
     ]
    }
   ],
   "source": [
    "print(\"Base counts:\\nAdenine: {}\\nCytosine: {}\\nGuanine: {}\\nThymine: {}\\n\".format(exercise1_seq.count('A'), exercise1_seq.count('C'), exercise1_seq.count('G'), exercise1_seq.count('T')))"
   ]
  },
  {
   "cell_type": "markdown",
   "metadata": {},
   "source": [
    "function version"
   ]
  },
  {
   "cell_type": "code",
   "execution_count": 6,
   "metadata": {},
   "outputs": [
    {
     "name": "stdout",
     "output_type": "stream",
     "text": [
      "Base counts:\n",
      "Adenine:  58\n",
      "Cytosine:  60\n",
      "Guanine:  57\n",
      "Thymine:  45\n",
      "DNA:  0\n"
     ]
    }
   ],
   "source": [
    "def baseCounts(sequence):\n",
    "    print('Base counts:')\n",
    "    print('Adenine: ', sequence.count('A'))\n",
    "    print('Cytosine: ', sequence.count('C'))\n",
    "    print('Guanine: ', sequence.count('G'))\n",
    "    print('Thymine: ', sequence.count('T'))\n",
    "\n",
    "    print('DNA: ', sequence.count('ACGU'))\n",
    "\n",
    "exercise1_seq = \"AAAACCTCTCTGTTCAGCACTTCCTCTCTCTTGGTCTGGTCTCAACGGTCACCATGGCGAGACCCTTGGAGGAGGCCCTGGATGTAATAGTGTCCACCTTCCACAAATACTCAGGCAACGAGGGTGACAAGTTCAAGCTGAACAAGACAGAGCTCAAGGAGCTACTGACCAGGGAGCTGCCTAGCTTCCTGGGGAGAAGGACAGACGAAGCTGCATTCCA\"\n",
    "baseCounts(exercise1_seq)"
   ]
  },
  {
   "cell_type": "code",
   "execution_count": 7,
   "metadata": {},
   "outputs": [
    {
     "data": {
      "text/plain": [
       "{'A': 58, 'C': 60, 'G': 57, 'T': 45}"
      ]
     },
     "execution_count": 7,
     "metadata": {},
     "output_type": "execute_result"
    }
   ],
   "source": [
    "def baseCounts(sequence, Alphabet):\n",
    "    seq = sequence.upper()\n",
    "    if Alphabet == DNA_Alphabet:\n",
    "        DNA = {}\n",
    "        for nuc in DNA_Alphabet:\n",
    "            DNA[nuc] = seq.count(nuc)\n",
    "        return DNA\n",
    "    elif Alphabet == RNA_Alphabet:\n",
    "        RNA = {}\n",
    "        for nuc in RNA_Alphabet:\n",
    "            RNA[nuc] = seq.count(nuc)\n",
    "        return RNA\n",
    "    elif Alphabet == Protein_Alphabet:\n",
    "        amino = {}\n",
    "        for prot in Protein_Alphabet:\n",
    "            amino[prot] = seq.count(prot)\n",
    "        return amino\n",
    "\n",
    "\n",
    "exercise1_seq = \"AAAACCTCTCTGTTCAGCACTTCCTCTCTCTTGGTCTGGTCTCAACGGTCACCATGGCGAGACCCTTGGAGGAGGCCCTGGATGTAATAGTGTCCACCTTCCACAAATACTCAGGCAACGAGGGTGACAAGTTCAAGCTGAACAAGACAGAGCTCAAGGAGCTACTGACCAGGGAGCTGCCTAGCTTCCTGGGGAGAAGGACAGACGAAGCTGCATTCCA\"\n",
    "baseCounts(exercise1_seq, DNA_Alphabet)"
   ]
  },
  {
   "cell_type": "markdown",
   "metadata": {},
   "source": [
    "Introducing the Alphabet Class"
   ]
  },
  {
   "cell_type": "code",
   "execution_count": 8,
   "metadata": {},
   "outputs": [
    {
     "data": {
      "text/plain": [
       "<guide.Alphabet at 0x210f4e9a910>"
      ]
     },
     "execution_count": 8,
     "metadata": {},
     "output_type": "execute_result"
    }
   ],
   "source": [
    "DNA_Alphabet "
   ]
  },
  {
   "cell_type": "code",
   "execution_count": 9,
   "metadata": {},
   "outputs": [
    {
     "data": {
      "text/plain": [
       "'ACGT'"
      ]
     },
     "execution_count": 9,
     "metadata": {},
     "output_type": "execute_result"
    }
   ],
   "source": [
    "DNA_Alphabet.symbols"
   ]
  },
  {
   "cell_type": "code",
   "execution_count": 10,
   "metadata": {},
   "outputs": [],
   "source": [
    "seq1 = Sequence('AAAAAAAATTTT', DNA_Alphabet)"
   ]
  },
  {
   "cell_type": "code",
   "execution_count": 11,
   "metadata": {},
   "outputs": [],
   "source": [
    "seq1 = Sequence('AAAAAAAATTTT', DNA_Alphabet, name = 'Sequence1')"
   ]
  },
  {
   "cell_type": "code",
   "execution_count": 12,
   "metadata": {},
   "outputs": [
    {
     "data": {
      "text/plain": [
       "<guide.Sequence at 0x210f4fa8730>"
      ]
     },
     "execution_count": 12,
     "metadata": {},
     "output_type": "execute_result"
    }
   ],
   "source": [
    "seq1"
   ]
  },
  {
   "cell_type": "code",
   "execution_count": 13,
   "metadata": {},
   "outputs": [
    {
     "data": {
      "text/plain": [
       "<guide.Alphabet at 0x210f4e9a910>"
      ]
     },
     "execution_count": 13,
     "metadata": {},
     "output_type": "execute_result"
    }
   ],
   "source": [
    "seq1.alphabet"
   ]
  },
  {
   "cell_type": "code",
   "execution_count": 14,
   "metadata": {},
   "outputs": [
    {
     "name": "stdout",
     "output_type": "stream",
     "text": [
      "ACGT\n"
     ]
    }
   ],
   "source": [
    "print(seq1.alphabet)"
   ]
  },
  {
   "cell_type": "code",
   "execution_count": 15,
   "metadata": {},
   "outputs": [
    {
     "data": {
      "text/plain": [
       "0"
      ]
     },
     "execution_count": 15,
     "metadata": {},
     "output_type": "execute_result"
    }
   ],
   "source": [
    "seq2 = Sequence('AWAAAAAAGGVG', Protein_Alphabet)\n",
    "count = seq2.count(Protein_Alphabet)\n",
    "count"
   ]
  },
  {
   "cell_type": "code",
   "execution_count": 16,
   "metadata": {},
   "outputs": [
    {
     "data": {
      "text/plain": [
       "35"
      ]
     },
     "execution_count": 16,
     "metadata": {},
     "output_type": "execute_result"
    }
   ],
   "source": [
    "seqs = readFastaFile('mystery2.fa', Protein_Alphabet)\n",
    "len(seqs)"
   ]
  },
  {
   "cell_type": "code",
   "execution_count": 17,
   "metadata": {},
   "outputs": [
    {
     "name": "stdout",
     "output_type": "stream",
     "text": [
      "NP_078820.2 352 20\n",
      "NP_001171939.1 113 20\n",
      "NP_001171938.1 190 20\n",
      "NP_002929.1 190 20\n",
      "NP_056981.2 510 20\n",
      "NP_004662.2 621 20\n",
      "NP_775956.1 247 20\n",
      "NP_775298.1 572 20\n",
      "NP_006258.3 3224 20\n",
      "NP_006090.2 628 20\n",
      "NP_057250.1 651 20\n",
      "NP_919237.1 158 20\n",
      "NP_919236.1 158 20\n",
      "NP_919235.1 158 20\n",
      "NP_003336.1 158 20\n",
      "NP_002874.1 587 20\n",
      "NP_872619.1 207 20\n",
      "NP_006348.1 207 20\n",
      "NP_004497.1 536 20\n",
      "NP_203123.1 151 20\n",
      "NP_001225.1 151 20\n",
      "NP_116036.1 211 20\n",
      "NP_001135758.1 1091 20\n",
      "NP_078900.1 1091 20\n",
      "NP_005180.1 532 20\n",
      "NP_005137.1 800 20\n",
      "NP_055925.2 1101 20\n",
      "NP_001230023.1 230 20\n",
      "NP_001129036.1 518 20\n",
      "NP_003843.3 1016 20\n",
      "NP_872590.1 261 20\n",
      "NP_002583.1 261 20\n",
      "NP_057353.1 399 20\n",
      "XP_747553.1 532 20\n",
      "XP_750661.1 497 20\n"
     ]
    }
   ],
   "source": [
    "long_seqs = []\n",
    "for seq in seqs:\n",
    "    print(seq.name, len(seq), len(seq.alphabet))\n",
    "    if len(seq) > 5000:\n",
    "        long_seqs.append(seq)"
   ]
  },
  {
   "cell_type": "code",
   "execution_count": 18,
   "metadata": {},
   "outputs": [],
   "source": [
    "writeFastaFile('mystery2_long.fa', long_seqs)"
   ]
  },
  {
   "cell_type": "markdown",
   "metadata": {},
   "source": [
    "Write a reverseComplement function for the Sequence class that returns the reverse complement of a DNA sequence as a new Sequence object."
   ]
  },
  {
   "cell_type": "code",
   "execution_count": 19,
   "metadata": {},
   "outputs": [],
   "source": [
    "def reverseComplement(seq, alphabet):\n",
    "    \"\"\" Return a new sequence: the reverse complement of this sequence.Causes an error if this isn't DNA or RNA. \"\"\"\n",
    "    seq.upper()\n",
    "    newseq = ''\n",
    "    symbols = {'A': 'T', 'C': 'G', 'T': 'A', 'G': 'C'}  # reverse complement dictionary\n",
    "    if alphabet == DNA_Alphabet:  # Checks if the sequence is DNA\n",
    "        for symbol in sequence[::-1]:\n",
    "            newsymbol = symbols[symbol]  # uses the reverse complement symbols in dictionary\n",
    "            newseq += newsymbol\n",
    "        return newseq  # returns RC sequences\n",
    "    else:\n",
    "        print(\"ERROR! this is not DNA\")  # error if not DNA\n",
    "    return newSequence"
   ]
  },
  {
   "cell_type": "code",
   "execution_count": 20,
   "metadata": {},
   "outputs": [
    {
     "name": "stdout",
     "output_type": "stream",
     "text": [
      "KP747648.1: AACCACGTACACAAGATTTCAACATTTATATGTGTCAACATGAGACTTTTCATCACCTAATTATATCAATATAATACCTATTGAGTATTAGATATTGACCCTTACAACATCCGACATCTATTTCATTCCTCTGAAATATAAGTTGTATTATTTTTATCCGAGTGGTTAGGTTGGAAAATAATAAAATGCTTAAGAAATAAACTTAAGAGGAAAGGAAACATAAAACAAATAGAAAAAGGAACTTTATTTGGCTTGGTCCATATGCTTATCATCCTAGCTTCTCTGTTACTATCTTCTTTTTCCCTTAACTTTTTTTTCTTTTTCATGTATAATCAAACTTCTCTCGACAATATTCTTCTTTATAATCATACTTTATTATAGCAATTTTATTTTTTGCTATATTATATTATAGTATATACCCTCTTATGTGAGACAGCAAAAAATGTAAATGAATAATTAAACTTGCAGAATTAGATTTGAAAGATATTTTTCATGTTTTTTTGCGGGTCAAATCATTCATTAAGAGCCTAGATGTACTACGTGCAACTTCTTAACCTTTCTAAGACTAAATCAAGGAATTGGGAAAGAACAAAAATACACGTAAAACTGGGATTTTGTACAGCCCATTAAATTAGTTTTATCATTTGAAATTAGACAAGAGGAATAATGAATTTTAGCTATTCTTGTTCCTAACCCTATCACACAAATTTTCTCAGATCCCTTTCAAATTAATATCTTCTTAACTAAACATCATGTATGACTTATATACACCACAATATGAATTAAGAAGATACTGAAAAATTAAGGAATTGTTGACTAAATTTTAAGTCAAAGGACCATATCTTGAGTGGAAATTTCTAAGAAATATCGTATTCAGTACATATATGATTACTTTAAGTAAGGTATTGCCAAAACGCAACCGTGTCTTTTCTAACAACATAAAAACACGGCATTTTCTACTAATCAATCCGCTTTTGTTTACCAATTCTACAATTCAAACCCTACACATATAGTATACACATTAAACCAAAGACTGAAACGACACCTATATATATTCAACTCCACGTACCAAAGGATACTCATCTCTATTATTATTGCATCCTATACATATACTAAAAGGGCAAAGCAATATAATCTGTACTTTATTTTTCTTGAGCC\n"
     ]
    }
   ],
   "source": [
    "seqs = readFastaFile('h1n1.fasta', DNA_Alphabet)\n",
    "seq = seqs[0] # Select first sequence in file\n",
    "print(seq)"
   ]
  },
  {
   "cell_type": "markdown",
   "metadata": {},
   "source": [
    "### Retrieve sequences directly with Python\n",
    "Retrieve the DNA sequence identified by the ID L03547 in GenBank and use your translation function to identify the most probable protein sequence."
   ]
  },
  {
   "cell_type": "code",
   "execution_count": 21,
   "metadata": {},
   "outputs": [
    {
     "name": "stdout",
     "output_type": "stream",
     "text": [
      "DEBUG: Querying URL: http://www.ebi.ac.uk/Tools/dbfetch/dbfetch?style=raw&db=genbank&format=fasta&id=L03547\n",
      "CCTTGGGGAGGCACAAGTCTGTTGATAACCTGAAGACAATGGATGTCGATGAGGGTCAAGACATGTCCCAAGTTTCAGGAAAGGAGAGCCCCCCAGTCAGTGACACTCCAGATGAAGGGGATGAGCCCATGCCTGTCCCTGAGGACCTGTCCACTACCTCTGGAGCACAGCAGAACTCCAAGAGTGATCGAGGCATGGGTGAACGGCCTTTCCAGTGCAACCAGTGTGGGGCCTCCTTTACCCAGAAAGGCAACCTCCTGCGGCACATCAAGCTGCACTCGGGTGAGAAGCCCTTCAAATGCCATCTTTGCAACTATGCCTGCCGCCGGAGGGACGCCCTCACCGGCCACCTGAGGACGCACTCCGTTGGTAAGCCTCACAAATGTGGATATTGTGGCCGGAGCTATAAACAGCGAAGCTCTTTAGAGGAGCATAAAGAGCGATGCCACAACTACTTGGAAAGCATGGGCCTTCCGGGCGTGTGCCCAGTCATTAAGGAAGAAACTAACCACAACGAGATGGCAGAAGACCTGTGCAAGATAGGAGCAGAGAGGTCCCTTGTCCTGGACAGGCTGGCAAGCAATGTCGCCAAACGTAAGAGCTCTATGCCTCAGAAATTTCTTGGAGACAAGTGCCTGTCAGACATGCCCTATGACAGTGCCAACTATGAGAAGGAGGATATGATGACATCCCACGTGATGGACCAGGCCATCAACAATGCCATCAACTACCTGGGGGCTGAGTCCCTGCGCCCATTGGTGCAGACACCCCCCGGTAGCTCCGAGGTGGTGCCAGTCATCAGCTCCATGTACCAGCTGCACAAGCCCCCCTCAGATGGCCCCCCACGGTCCAACCATTCAGCACAGGACGCCGTGGATAACTTGCTGCTGCTGTCCAAGGCCAAGTCTGTGTCATCGGAGCGAGAGGCCTCCCCGAGCAACAGCTGCCAAGACTCCACAGATACAGAGAGCAACGCGGAGGAACAGCGCAGCGGCCTTATCTACCTAACCAACCACATCAACCCGCATGCACGCAATGGGCTGGCTCTCAAGGAGGAGCAGCGCGCCTACGAGGTGCTGAGGGCGGCCTCAGAGAACTCGCAGGATGCCTTCCGTGTGGTCAGCACGAGTGGCGAGCAGCTGAAGGTGTACAAGTGCGAACACTGCCGCGTGCTCTTCCTGGATCACGTCATGTATACCATTCACATGGGCTGCCATGGCTGCCATGGCTTTCGGGATCCCTTTGAGTGTAACATGTGTGGTTATCACAGCCAGGACAGGTACGAGTTCTCATCCCATATCACGCGGGGGGAGCATCGTTACCACCTGAGCTAAACCCAGCCAGGCCCCACTGAAGCACAAAGATAGCTGGTTATGCCTCCTTCCCGGCAGCTGGACCCACAGCGGACAATGTGGGAGTGGATTTGCAGGCAGCATTTGTTCTTTTATGTTGGTTGTTTGGCGTTTGATTTGCGTTGGAAGATAAGTTTTTAATGTTAGTGACAGGATTGCATTGCATCAGGAACATTCACAACATCCATCCTTCTAGCC\n"
     ]
    }
   ],
   "source": [
    "seq = getSequence('L03547', 'genbank', DNA_Alphabet)\n",
    "print(seq.sequence)"
   ]
  },
  {
   "cell_type": "code",
   "execution_count": 22,
   "metadata": {},
   "outputs": [
    {
     "name": "stdout",
     "output_type": "stream",
     "text": [
      "found  1  sequences\n"
     ]
    }
   ],
   "source": [
    "sequences = readFastaFile(\"h1n1.fasta\", DNA_Alphabet)\n",
    "print (\"found \", sequences.__len__(), \" sequences\")"
   ]
  },
  {
   "cell_type": "code",
   "execution_count": 23,
   "metadata": {},
   "outputs": [
    {
     "name": "stdout",
     "output_type": "stream",
     "text": [
      "Found  328  sequences\n"
     ]
    }
   ],
   "source": [
    "prot_ids = searchSequences('organism:7227+AND+family:G-protein+coupled+receptor', 'uniprot')\n",
    "print (\"Found \", prot_ids.__len__(), \" sequences\")"
   ]
  },
  {
   "cell_type": "markdown",
   "metadata": {},
   "source": [
    "We suspect that so-called G-protein coupled receptors (GPCRs) have a higher proportion of hydrophobic amino acids, e.g. Leucine (L), Valine (V), Isoleucine (I) and Phenylalanine (F), being membrane associated proteins, compared to soluble proteins. Of course, looking at one example won’t convince a statistician; so to investigate this we will inspect all fruit-fly GPCRs proteins (i.e. proteins encoded by the fruit-fly genome, belonging to the GPCR family)."
   ]
  },
  {
   "cell_type": "code",
   "execution_count": 24,
   "metadata": {},
   "outputs": [],
   "source": [
    "class AminoAcid():\n",
    "    \"\"\"represent an amino acid\"\"\"\n",
    "    \n",
    "    hydrophobic_codes = \"AILFVPG\"\n",
    "    \n",
    "    def __init__(self, amino_acid_code):\n",
    "        self.code = amino_acid_code\n",
    "    \n",
    "    def is_hydrophobic(self):\n",
    "        if self.code in self.hydrophobic_codes:\n",
    "            return True\n",
    "        else:\n",
    "            return False"
   ]
  },
  {
   "cell_type": "code",
   "execution_count": 25,
   "metadata": {
    "scrolled": true
   },
   "outputs": [
    {
     "name": "stdout",
     "output_type": "stream",
     "text": [
      "DEBUG: Querying URL: http://www.ebi.ac.uk/Tools/dbfetch/dbfetch?style=raw&db=uniprot&format=fasta&id=P04950\n",
      "DEBUG: Querying URL: http://www.ebi.ac.uk/Tools/dbfetch/dbfetch?style=raw&db=uniprot&format=fasta&id=Q8IPN2\n"
     ]
    }
   ],
   "source": [
    "hydrophobic_count = 0\n",
    "for i in range(0, len(prot_ids), 200):\n",
    "    seq = getSequence(prot_ids[i], \"uniprot\", Protein_wX)\n",
    "    for amino_acid_code in seq.sequence:\n",
    "        amino_acid = AminoAcid(amino_acid_code)\n",
    "        if amino_acid.is_hydrophobic():\n",
    "            hydrophobic_count += 1"
   ]
  },
  {
   "cell_type": "code",
   "execution_count": null,
   "metadata": {},
   "outputs": [],
   "source": []
  }
 ],
 "metadata": {
  "kernelspec": {
   "display_name": "Python 3",
   "language": "python",
   "name": "python3"
  },
  "language_info": {
   "codemirror_mode": {
    "name": "ipython",
    "version": 3
   },
   "file_extension": ".py",
   "mimetype": "text/x-python",
   "name": "python",
   "nbconvert_exporter": "python",
   "pygments_lexer": "ipython3",
   "version": "3.8.3"
  }
 },
 "nbformat": 4,
 "nbformat_minor": 4
}
