{
 "cells": [
  {
   "cell_type": "markdown",
   "metadata": {},
   "source": [
    "### Gene Ontology (GO), Fisher's exact test (FET), and Position Weight Matrices (PWMs)"
   ]
  },
  {
   "cell_type": "code",
   "execution_count": 1,
   "metadata": {},
   "outputs": [],
   "source": [
    "from sequence import *\n",
    "from prob import *"
   ]
  },
  {
   "cell_type": "markdown",
   "metadata": {},
   "source": [
    "### Exercise 1 : Build a PWM for the Abf1 transcription factor"
   ]
  },
  {
   "cell_type": "code",
   "execution_count": 2,
   "metadata": {},
   "outputs": [
    {
     "data": {
      "text/plain": [
       "[<prob.Distrib at 0x1d177a9f6d0>,\n",
       " <prob.Distrib at 0x1d177a9f880>,\n",
       " <prob.Distrib at 0x1d177a9f820>,\n",
       " <prob.Distrib at 0x1d177a9f850>,\n",
       " <prob.Distrib at 0x1d177a9f790>,\n",
       " <prob.Distrib at 0x1d177a9f730>,\n",
       " <prob.Distrib at 0x1d177a9f8e0>,\n",
       " <prob.Distrib at 0x1d177a9f970>,\n",
       " <prob.Distrib at 0x1d177a9f9a0>,\n",
       " <prob.Distrib at 0x1d177a9fa00>,\n",
       " <prob.Distrib at 0x1d177a9fa60>,\n",
       " <prob.Distrib at 0x1d177a9fac0>,\n",
       " <prob.Distrib at 0x1d177a9fb20>,\n",
       " <prob.Distrib at 0x1d177a9fb80>,\n",
       " <prob.Distrib at 0x1d177a9fbe0>,\n",
       " <prob.Distrib at 0x1d177a9fc40>]"
      ]
     },
     "execution_count": 2,
     "metadata": {},
     "output_type": "execute_result"
    }
   ],
   "source": [
    "distribs = readMultiCount('abf1.jaspar')\n",
    "distribs"
   ]
  },
  {
   "cell_type": "code",
   "execution_count": 3,
   "metadata": {},
   "outputs": [
    {
     "name": "stdout",
     "output_type": "stream",
     "text": [
      " \t     1      2      3      4      5      6      7      8      9     10     11     12     13     14     15     16\n",
      "A\t -0.82 -25.33 -25.33 -25.33  +0.49  -0.13  +0.44  +0.31  +0.47  +0.51  -0.74 -25.33  +1.30 -25.33  +0.39  +0.31\n",
      "C\t +0.49  +1.38 -25.33 -25.33  -0.39  -0.04  -0.45  -0.33  -0.17 -25.33  -0.01 -25.33  -1.14  +0.59  -0.13  -0.33\n",
      "G\t -1.83 -25.33  +1.39 -25.33  -0.13  +0.04  +0.11  -0.22  -0.04  +0.84  -1.03  +1.18 -25.33  -1.02  -0.33  -0.58\n",
      "T\t +0.57  -3.22 -25.33  +1.39  -0.22  +0.11  -0.39  +0.11  -0.51 -25.33  +0.78  -0.27 -25.33  +0.61  -0.08  +0.31\n"
     ]
    }
   ],
   "source": [
    "abf1_pwm = PWM(distribs)\n",
    "abf1_pwm.display()"
   ]
  },
  {
   "cell_type": "markdown",
   "metadata": {},
   "source": [
    "### Exercise 2: Select yeast promoter sequences for motif identification"
   ]
  },
  {
   "cell_type": "code",
   "execution_count": 4,
   "metadata": {},
   "outputs": [
    {
     "data": {
      "text/plain": [
       "5850"
      ]
     },
     "execution_count": 4,
     "metadata": {},
     "output_type": "execute_result"
    }
   ],
   "source": [
    "# read fasta file\n",
    "yeast_promoters = readFastaFile('yeast_promoters.fa')\n",
    "len(yeast_promoters)"
   ]
  },
  {
   "cell_type": "code",
   "execution_count": 5,
   "metadata": {},
   "outputs": [
    {
     "name": "stdout",
     "output_type": "stream",
     "text": [
      "HIR1: TAAC with length 4\n"
     ]
    }
   ],
   "source": [
    "shorest = 1000\n",
    "shortest_promoter = ''\n",
    "for seq in yeast_promoters:\n",
    "    if len(seq) < shorest:\n",
    "        shortest_promoter = seq\n",
    "        shorest = len(seq)\n",
    "print(shortest_promoter, \"with length\", shorest)"
   ]
  },
  {
   "cell_type": "code",
   "execution_count": 6,
   "metadata": {},
   "outputs": [
    {
     "name": "stdout",
     "output_type": "stream",
     "text": [
      "5839\n"
     ]
    }
   ],
   "source": [
    "count = 0\n",
    "filtered_yeast_promoters = []\n",
    "for seq in yeast_promoters:\n",
    "    if len(seq) >= 16:\n",
    "        count += 1\n",
    "        filtered_yeast_promoters.append(seq)\n",
    "print(count)"
   ]
  },
  {
   "cell_type": "markdown",
   "metadata": {},
   "source": [
    "### Exercise 3 : Search for ABf1 binding sites and their target genes"
   ]
  },
  {
   "cell_type": "code",
   "execution_count": 7,
   "metadata": {},
   "outputs": [
    {
     "data": {
      "image/png": "[encoded data removed]",
      "text/plain": [
       "<Figure size 432x288 with 1 Axes>"
      ]
     },
     "metadata": {
      "needs_background": "light"
     },
     "output_type": "display_data"
    }
   ],
   "source": [
    "import numpy as np\n",
    "import matplotlib.pyplot as plt\n",
    "\n",
    "# a set of yeast promoter sequences to search (filtered in Exericse 2)\n",
    "yeast_promoters = filtered_yeast_promoters\n",
    "\n",
    "distribs = readMultiCount(\"abf1.jaspar\")\n",
    "abf1_pwm = PWM(distribs)\n",
    "\n",
    "score_dict = {}\n",
    "for s in yeast_promoters: # yeast_prom is an array of sequences\n",
    "    score_dict[s.name] = abf1_pwm.maxscore(s)[0] # save score only\n",
    "\n",
    "# #Create a list of all scores\n",
    "# scores = []\n",
    "# for s in score_dict.keys():\n",
    "#     if score_dict[s] != None:\n",
    "#         scores.append(score_dict[s])\n",
    "\n",
    "scores = list(score_dict.values()) #score_dict = the name of your dictiona\n",
    "\n",
    "hist, bins = np.histogram(scores, bins=50)\n",
    "width = 0.7 * (bins[1] - bins[0])\n",
    "center = (bins[:-1] + bins[1:]) / 2\n",
    "plt.bar(center, hist, align='center', width=width)\n",
    "plt.title(\"histograms to represent the distribution of score\")\n",
    "    \n",
    "plt.show()"
   ]
  },
  {
   "cell_type": "markdown",
   "metadata": {},
   "source": [
    "### Exercise 4 : Perform Gene Ontology (GO) enrichment tests on target genes"
   ]
  },
  {
   "cell_type": "code",
   "execution_count": 8,
   "metadata": {},
   "outputs": [
    {
     "name": "stdout",
     "output_type": "stream",
     "text": [
      "502\n"
     ]
    }
   ],
   "source": [
    "#E4\n",
    "pos500 = []\n",
    "for gn in score_dict.keys():\n",
    "    if score_dict[gn] > 8.33:\n",
    "        pos500.append(gn)\n",
    "print(len(pos500))"
   ]
  },
  {
   "cell_type": "markdown",
   "metadata": {},
   "source": [
    "#### Step 1 : Generate a negative gene list from an instance of the GO class from godata.py"
   ]
  },
  {
   "cell_type": "code",
   "execution_count": 9,
   "metadata": {},
   "outputs": [
    {
     "name": "stdout",
     "output_type": "stream",
     "text": [
      "('Started at', 'Thu May 27 15:04:46 2021')\n",
      "Read 167 GO definitions\n",
      "Read annotations for 6448 genes\n"
     ]
    }
   ],
   "source": [
    "from godata import GO\n",
    "positive_gene_list = pos500\n",
    "go = GO(\"gene_association.sgd\", \"goslim_yeast.obo\", (2,2,3,4,6,8))\n",
    "negative_gene_list = list(go.getAllBackground(positive_gene_list)[0])[:1000]"
   ]
  },
  {
   "cell_type": "markdown",
   "metadata": {},
   "source": [
    "#### Step 2 : Produce two dictionaries of data (one positive and one negative) with GO terms as the keys and the counts of how many genes are annotated with this GO term as the values."
   ]
  },
  {
   "cell_type": "code",
   "execution_count": 10,
   "metadata": {},
   "outputs": [],
   "source": [
    "# create a dic that stores how many (positive) genes have a specific G0: {GO: cnt_of_genes}\n",
    "gos = go.getTerms4Genes(pos500)\n",
    "gos_dic = {}\n",
    "for k, value in gos.items():\n",
    "    for i in value:\n",
    "        try:\n",
    "            gos_dic[i] += 1\n",
    "        except:\n",
    "            gos_dic[i] = 1\n",
    "# create a dic that stores how many (negative) genes have a specific GO: {GO:cnt_of_genes}\n",
    "neg_gos = go.getTerms4Genes(negative_gene_list)\n",
    "neg_gos_dic = {}\n",
    "for k, value in neg_gos.items():\n",
    "    for i in value:\n",
    "        try:\n",
    "            neg_gos_dic[i] += 1\n",
    "        except:\n",
    "            neg_gos_dic[i] = 1"
   ]
  },
  {
   "cell_type": "markdown",
   "metadata": {},
   "source": [
    "#### Step 3 : Perform a FET and Bonferroni correction for each of the GO terms stored in the positive and negative dictionaries.\n",
    "- A = The number of genes in your positive gene list (genes believed to be regulated by Abf1) which were annotated with the target GO term.\n",
    "- B = The number of genes in your positive gene list (genes believed to be regulated by Abf1) which were not annotated with the target GO term.\n",
    "- C = The number of genes in your negative gene list (random sample of yeast genes) which were annotated with the target GO term.\n",
    "- D = The number of genes in your negative gene list (random sample of yeast genes) which were not annotated with the target GO term\n",
    "\n",
    "#### Step 4 : Identify GO terms that are over-represented in the Abf1 candidate gene set"
   ]
  },
  {
   "cell_type": "code",
   "execution_count": 11,
   "metadata": {},
   "outputs": [
    {
     "name": "stdout",
     "output_type": "stream",
     "text": [
      "GO:0008152,GO:0016021,GO:0003674,GO:0008150,GO:0006414,GO:0055114,GO:0016491,GO:0007059\n"
     ]
    }
   ],
   "source": [
    "# fisher's test\n",
    "from stats import *\n",
    "result = []\n",
    "for i in gos_dic.keys():\n",
    "    A = gos_dic[i]\n",
    "    B = 500 - gos_dic[i]\n",
    "    try:\n",
    "        C = neg_gos_dic[i]\n",
    "    except:\n",
    "        C = 0\n",
    "    D = len(negative_gene_list) - C\n",
    "    p = getFETpval(A, B, C, D)\n",
    "    e = p * len(gos_dic)\n",
    "    if e < 50:\n",
    "        result.append(i)\n",
    "print(','.join(result))"
   ]
  },
  {
   "cell_type": "markdown",
   "metadata": {},
   "source": [
    "Find an appropriate scoring threshold that will identify the top ~500 highest scoring genes in your dictionary and then compile their gene names in a list."
   ]
  },
  {
   "cell_type": "markdown",
   "metadata": {},
   "source": [
    "#### Question 5 : Do any of your enriched GO terms support a known role you've discovered Abf1 to play in *Saccharomyces cerevisiae?*"
   ]
  },
  {
   "cell_type": "code",
   "execution_count": 13,
   "metadata": {
    "scrolled": true
   },
   "outputs": [
    {
     "name": "stdout",
     "output_type": "stream",
     "text": [
      "('Unknown', 'Unknown', 'Unknown')\n",
      "('Unknown', 'Unknown', 'Unknown')\n",
      "('F', set(), 'molecular_function')\n",
      "('P', set(), 'biological_process')\n",
      "('P', {('GO:0008150', 'part_of'), ('GO:0008150', 'is_a')}, 'translational elongation')\n",
      "('Unknown', 'Unknown', 'Unknown')\n",
      "('F', {('GO:0003674', 'is_a'), ('GO:0008150', 'part_of')}, 'oxidoreductase activity')\n",
      "('P', {('GO:0008150', 'is_a')}, 'chromosome segregation')\n"
     ]
    }
   ],
   "source": [
    "# go more information by getTermdef\n",
    "for term in result:\n",
    "    defin = go.getTermdef(term)\n",
    "    print(defin)"
   ]
  },
  {
   "cell_type": "code",
   "execution_count": null,
   "metadata": {},
   "outputs": [],
   "source": []
  }
 ],
 "metadata": {
  "kernelspec": {
   "display_name": "Python 3",
   "language": "python",
   "name": "python3"
  },
  "language_info": {
   "codemirror_mode": {
    "name": "ipython",
    "version": 3
   },
   "file_extension": ".py",
   "mimetype": "text/x-python",
   "name": "python",
   "nbconvert_exporter": "python",
   "pygments_lexer": "ipython3",
   "version": "3.8.3"
  }
 },
 "nbformat": 4,
 "nbformat_minor": 4
}
