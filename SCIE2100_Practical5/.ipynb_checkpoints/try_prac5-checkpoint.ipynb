{
 "cells": [
  {
   "cell_type": "code",
   "execution_count": 1,
   "metadata": {},
   "outputs": [],
   "source": [
    "from sequence import *\n",
    "from prob import *"
   ]
  },
  {
   "cell_type": "code",
   "execution_count": 2,
   "metadata": {},
   "outputs": [
    {
     "data": {
      "text/plain": [
       "[<prob.Distrib at 0x20e018c07c0>,\n",
       " <prob.Distrib at 0x20e018c09a0>,\n",
       " <prob.Distrib at 0x20e018c08b0>,\n",
       " <prob.Distrib at 0x20e018c0970>,\n",
       " <prob.Distrib at 0x20e018c0880>,\n",
       " <prob.Distrib at 0x20e018c0820>,\n",
       " <prob.Distrib at 0x20e018c09d0>,\n",
       " <prob.Distrib at 0x20e018c0a60>,\n",
       " <prob.Distrib at 0x20e018c0a90>,\n",
       " <prob.Distrib at 0x20e018c0af0>,\n",
       " <prob.Distrib at 0x20e018c0b50>,\n",
       " <prob.Distrib at 0x20e018c0bb0>,\n",
       " <prob.Distrib at 0x20e018c0c10>,\n",
       " <prob.Distrib at 0x20e018c0c70>,\n",
       " <prob.Distrib at 0x20e018c0ca0>,\n",
       " <prob.Distrib at 0x20e018c0d00>]"
      ]
     },
     "execution_count": 2,
     "metadata": {},
     "output_type": "execute_result"
    }
   ],
   "source": [
    "distribs = readMultiCount('abf1.jaspar')\n",
    "distribs"
   ]
  },
  {
   "cell_type": "code",
   "execution_count": 3,
   "metadata": {},
   "outputs": [
    {
     "name": "stdout",
     "output_type": "stream",
     "text": [
      " \t     1      2      3      4      5      6      7      8      9     10     11     12     13     14     15     16\n",
      "A\t -0.82 -25.33 -25.33 -25.33  +0.49  -0.13  +0.44  +0.31  +0.47  +0.51  -0.74 -25.33  +1.30 -25.33  +0.39  +0.31\n",
      "C\t +0.49  +1.38 -25.33 -25.33  -0.39  -0.04  -0.45  -0.33  -0.17 -25.33  -0.01 -25.33  -1.14  +0.59  -0.13  -0.33\n",
      "G\t -1.83 -25.33  +1.39 -25.33  -0.13  +0.04  +0.11  -0.22  -0.04  +0.84  -1.03  +1.18 -25.33  -1.02  -0.33  -0.58\n",
      "T\t +0.57  -3.22 -25.33  +1.39  -0.22  +0.11  -0.39  +0.11  -0.51 -25.33  +0.78  -0.27 -25.33  +0.61  -0.08  +0.31\n"
     ]
    }
   ],
   "source": [
    "abf1_pwm = PWM(distribs)\n",
    "abf1_pwm.display()"
   ]
  },
  {
   "cell_type": "code",
   "execution_count": 4,
   "metadata": {},
   "outputs": [
    {
     "data": {
      "text/plain": [
       "5850"
      ]
     },
     "execution_count": 4,
     "metadata": {},
     "output_type": "execute_result"
    }
   ],
   "source": [
    "# read fasta file\n",
    "yeast_promoters = readFastaFile('yeast_promoters.fa')\n",
    "len(yeast_promoters)"
   ]
  },
  {
   "cell_type": "code",
   "execution_count": 5,
   "metadata": {},
   "outputs": [
    {
     "name": "stdout",
     "output_type": "stream",
     "text": [
      "HIR1: TAAC with length 4\n"
     ]
    }
   ],
   "source": [
    "shorest = 1000\n",
    "shortest_promoter = ''\n",
    "for seq in yeast_promoters:\n",
    "    if len(seq) < shorest:\n",
    "        shortest_promoter = seq\n",
    "        shorest = len(seq)\n",
    "print(shortest_promoter, \"with length\", shorest)"
   ]
  },
  {
   "cell_type": "code",
   "execution_count": 6,
   "metadata": {},
   "outputs": [
    {
     "name": "stdout",
     "output_type": "stream",
     "text": [
      "5839\n"
     ]
    }
   ],
   "source": [
    "count = 0\n",
    "for seq in yeast_promoters:\n",
    "    if len(seq) >= 16:\n",
    "        count += 1\n",
    "print(count)"
   ]
  },
  {
   "cell_type": "markdown",
   "metadata": {},
   "source": [
    "### Search for ABf1 binding sites and their target genes"
   ]
  },
  {
   "cell_type": "code",
   "execution_count": 7,
   "metadata": {},
   "outputs": [
    {
     "data": {
      "image/png": "[encoded data removed]",
      "text/plain": [
       "<Figure size 432x288 with 1 Axes>"
      ]
     },
     "metadata": {
      "needs_background": "light"
     },
     "output_type": "display_data"
    }
   ],
   "source": [
    "import numpy as np\n",
    "import matplotlib.pyplot as plt\n",
    "\n",
    "yeast_promoters = readFastaFile(\"yeast_promoters.fa\", DNA_Alphabet)\n",
    "\n",
    "distribs = readMultiCount(\"abf1.jaspar\")\n",
    "abf1_pwm = PWM(distribs)\n",
    "\n",
    "bind_map = {}\n",
    "for s in yeast_promoters: # yeast_prom is an array of sequences\n",
    "    bind_map[s.name] = abf1_pwm.maxscore(s)[0] # save score only\n",
    "#Create a list of all scores\n",
    "scores = []\n",
    "for s in bind_map.keys():\n",
    "    if bind_map[s] != None:\n",
    "        scores.append(bind_map[s])\n",
    "\n",
    "hist, bins = np.histogram(scores, bins=50)\n",
    "width = 0.7 * (bins[1] - bins[0])\n",
    "center = (bins[:-1] + bins[1:]) / 2\n",
    "plt.bar(center, hist, align='center', width=width)\n",
    "plt.title(\"histograms to represent the distribution of score\")\n",
    "    \n",
    "plt.show()"
   ]
  },
  {
   "cell_type": "markdown",
   "metadata": {},
   "source": [
    "Find an appropriate scoring threshold that will identify the top ~500 highest scoring genes in your dictionary and then compile their gene names in a list."
   ]
  },
  {
   "cell_type": "code",
   "execution_count": 8,
   "metadata": {
    "collapsed": true
   },
   "outputs": [
    {
     "name": "stdout",
     "output_type": "stream",
     "text": [
      "threshold: 8.33724131711271\n",
      "['ACS1', 'FLC2', 'PTA1', 'PMT2', 'SWC3', 'EFB1', 'YAT1', 'SCS22', 'PET112', 'PRX1', 'KIP1', 'PTC3', 'SEC17', 'PRE7', 'URA7', 'NCL1', 'ACH1', 'SLA1', 'OLA1', 'YBR030W', 'UBP14', 'TSC3', 'SLM4', 'FES1', 'VID24', 'CMD1', 'RAD16', 'MRPL36', 'MRPS9', 'YSY6', 'KTR4', 'NGR1', 'YBR238C', 'DUG2', 'YBR284W', 'VAC17', 'YCL057C-A', 'YCL045C', 'LSB5', 'GBP2', 'CDC10', 'MRPL32', 'PGK1', 'SYP1', 'RBK1', 'THR4', 'HCM1', 'SED4', 'AHC2', 'CSM1', 'CDC39', 'ASF2', 'UGA3', 'STE7', 'YDL144C', 'HNT1', 'UBP1', 'YFH1', 'NUP84', 'NSE4', 'PMT1', 'SRP14', 'SUB2', 'YDL073W', 'BDF2', 'COX9', 'TSR1', 'PBP4', 'SLC1', 'SIT4', 'MPS1', 'RPN4', 'NOP1', 'YDL012C', 'MED2', 'VPS54', 'YDR034C-D', 'YDR034C-C', 'ARO3', 'BAP3', 'SED1', 'PDC2', 'RLI1', 'TRM1', 'FIN1', 'MKC7', 'KGD2', 'SUP35', 'NGG1', 'YDR186C', 'MSS116', 'MSC2', 'UME6', 'LYS4', 'MNN10', 'SWM1', 'YDR262W', 'DPP1', 'ZIP1', 'HDA2', 'CFT1', 'SUM1', 'TFB1', 'YSP2', 'PEX3', 'MRP1', 'ATP22', 'EAF1', 'VPS74', 'YDR374W-A', 'RPP2B', 'EFT2', 'NCB2', 'RPB7', 'TRS120', 'ADE8', 'CYM1', 'GPI17', 'APT2', 'GUK1', 'MRPL28', 'TRS31', 'GNP1', 'RBA50', 'TID3', 'CCT2', 'YIL134C-A', 'MET18', 'MOB1', 'SGA1', 'YIL091C', 'AIR1', 'YIL077C', 'HOP1', 'YIL055C', 'YIL046W-A', 'PRM2', 'ULP2', 'RPB3', 'VID28', 'BET1', 'DSN1', 'MET28', 'DAL81', 'MGA2', 'CIN8', 'IES6', 'CUP5', 'GTT3', 'PRE1', 'PHM8', 'HOR2', 'THO1', 'YER071C', 'TRP2', 'KAP123', 'LSM4', 'YCK3', 'RSP5', 'SAK1', 'SPT15', 'BUR6', 'SPT2', 'RAD24', 'YER188C-A', 'RGD2', 'YPT1', 'TUB2', 'RPO41', 'HAC1', 'BUD27', 'LPD1', 'SMX2', 'YFL012W', 'SMC1', 'LOC1', 'PTR3', 'YFR045W', 'RMR1', 'ADE5,7', 'SHE10', 'EDC1', 'HOS2', 'KEM1', 'SPO74', 'SUA5', 'YGL138C', 'MON1', 'NAB2', 'RMD9', 'HNM1', 'PUS2', 'SDS23', 'YGL036W', 'PIB2', 'YGL015C', 'YGL010W', 'GSC2', 'ACB1', 'YGR053C', 'RSC1', 'SPR3', 'SMD1', 'NOP7', 'ASN2', 'SYF2', 'YGR131W', 'TIF4631', 'TFG1', 'RSM27', 'PET54', 'NAS6', 'BRF1', 'YGR266W', 'HUA1', 'YTA7', 'YHL049C', 'OCA5', 'WSC4', 'YLF2', 'STE20', 'HSE1', 'MRS11', 'DED81', 'RPN1', 'RSC30', 'SSZ1', 'RRP3', 'QNS1', 'YHR078W', 'YHR080C', 'RPF1', 'YNG2', 'KIC1', 'COX23', 'RPC10', 'YHR162W', 'PRP8', 'MNN11', 'SWI3', 'ERG20', 'QCR8', 'JJJ2', 'FMP33', 'HSP150', 'CIS3', 'RPB4', 'YJL133C-A', 'ALB1', 'CCT7', 'GZF3', 'TOK1', 'GWT1', 'YJL062W-A', 'YJL055W', 'MTR4', 'CCT3', 'SYS1', 'MPP10', 'YJR005C-A', 'TAH11', 'CYC1', 'PTK2', 'NTA1', 'CCT5', 'STE18', 'YJR088C', 'JSN1', 'FIP1', 'RPL43B', 'ADO1', 'IML1', 'YJR151W-A', 'SRY1', 'JEN1', 'UBA1', 'EAP1', 'YKT6', 'DPH2', 'CNB1', 'MTR2', 'COY1', 'ZRT3', 'EBP2', 'MRP49', 'ELF1', 'LTV1', 'APL2', 'MYO3', 'RAD27', 'YKL098W', 'DHR2', 'YKL075C', 'FBA1', 'YKL047W', 'NFU1', 'IXR1', 'MAE1', 'TFA1', 'SPT23', 'ATP7', 'LAC1', 'AUR1', 'YPT52', 'SET3', 'GMH1', 'SPO14', 'GAP1', 'RHO4', 'RPS21A', 'BET3', 'SIS2', 'NUP133', 'UBP11', 'YLL066W-B', 'YBT1', 'RIX7', 'YEH1', 'SOF1', 'PSR1', 'AAT2', 'RPL15A', 'ERG3', 'REX2', 'ARP6', 'IOC2', 'KIN2', 'REX3', 'CLF1', 'ZRT2', 'STM1', 'MAS1', 'CBF5', 'YLR179C', 'NMT1', 'SIK1', 'QRI5', 'UTP13', 'YLR224W', 'LCB5', 'RED1', 'RPS28B', 'CDC3', 'RPP0', 'YLR352W', 'NMD4', 'RPS22B', 'STP3', 'SEC61', 'YLR406C-A', 'RPN13', 'CRN1', 'VMA6', 'RIF2', 'YLR466C-B', 'YML119W', 'URA5', 'PRE8', 'YML081W', 'AMD1', 'PPZ1', 'ERV25', 'MRPL39', 'TAF4', 'YMR010W', 'RNA14', 'RIM9', 'IRC21', 'SEC14', 'UTP15', 'MYO5', 'CIK1', 'YMR206W', 'GUA1', 'TAF9', 'BCH1', 'CAT8', 'LCB1', 'PRC1', 'UBP15', 'NIP1', 'KRE1', 'YNL313C', 'MCK1', 'MRPS18', 'DSL1', 'NRD1', 'RAD50', 'SLA2', 'YNL213C', 'RIO2', 'SRP1', 'ASI2', 'SRV2', 'TOM22', 'TOM70', 'NCS2', 'DCP2', 'MLS1', 'RPC19', 'DBP2', 'CYB5', 'YNL097C-B', 'MKT1', 'SAL1', 'NIS1', 'MKS1', 'LAT1', 'YDJ1', 'ARP5', 'COG6', 'NCE103', 'HRB1', 'DOM34', 'ARC35', 'DBP6', 'YNR047W', 'AIF1', 'YOL164W-A', 'HRT1', 'MSN1', 'NDJ1', 'ATG19', 'BRX1', 'HST1', 'MDM38', 'LAG2', 'PLB3', 'SIN3', 'STI1', 'CIN5', 'SHE4', 'NOB1', 'ASE1', 'TCB1', 'TMA46', 'NUP1', 'LEU9', 'RPT5', 'LEO1', 'ARP8', 'MDM32', 'PUP1', 'DDP1', 'RPS28A', 'LRC5', 'PTP2', 'NPT1', 'MGM1', 'RPB8', 'MGE1', 'OSW1', 'YOR262W', 'SNF2', 'MIP1', 'KRE5', 'YOR342C', 'YOR343W-B', 'YOR343W-A', 'SNX3', 'PDE2', 'RDR1', 'YOR394C-A', 'APM1', 'SRP68', 'IQG1', 'HSP82', 'SSO1', 'CET1', 'SRP72', 'PPQ1', 'BEM4', 'YPL150W', 'ISU1', 'MRP51', 'PMA2', 'TRM44', 'SWI1', 'HAT1', 'AIM45', 'YPR010C-A', 'DSS4', 'RLF2', 'YME1', 'HTS1', 'VMA13', 'YPR089W', 'YTH1', 'RPC40', 'ANT1', 'PIN3', 'KRE6', 'MMS1', 'RHO1', 'BSP1', 'BET2', 'SMX3', 'RPO26', 'RPC82', 'YPR202W']\n"
     ]
    }
   ],
   "source": [
    "scores.sort()\n",
    "print(\"threshold:\", scores[-500:][0])\n",
    "threshold = scores[-500:][0]\n",
    "\n",
    "top500 = []\n",
    "for s in bind_map.keys():\n",
    "    if bind_map[s] != None and bind_map[s] >= threshold:\n",
    "        top500.append(s)\n",
    "print(top500)"
   ]
  },
  {
   "cell_type": "markdown",
   "metadata": {},
   "source": [
    "### Perform Gene Ontology (GO) enrichment tests on target genes"
   ]
  },
  {
   "cell_type": "code",
   "execution_count": 9,
   "metadata": {},
   "outputs": [
    {
     "name": "stdout",
     "output_type": "stream",
     "text": [
      "('Started at', 'Tue May 11 13:49:17 2021')\n",
      "Read 167 GO definitions\n",
      "Read annotations for 6448 genes\n"
     ]
    }
   ],
   "source": [
    "from godata import GO\n",
    "\n",
    "positive_gene_list = top500\n",
    "\n",
    "go = GO(\"gene_association.sgd\", \"goslim_yeast.obo\", (2,2,3,4,6,8))\n",
    "negative_gene_list = list(go.getAllBackground(positive_gene_list)[0])[:1000]"
   ]
  },
  {
   "cell_type": "code",
   "execution_count": 18,
   "metadata": {},
   "outputs": [
    {
     "name": "stdout",
     "output_type": "stream",
     "text": [
      "('GO:0003729', 0.2269100857839811, 30, 51, 'mRNA binding', 'F')\n",
      "('GO:0006351', 0.362341265350927, 62, 129, 'Unknown', 'Unknown')\n",
      "('GO:0005634', 0.8422227487411286, 212, 547, 'nucleus', 'C')\n",
      "('GO:0005628', 1.3217681222265272, 12, 16, 'Unknown', 'Unknown')\n",
      "('GO:0001056', 2.386394406838901, 6, 6, 'Unknown', 'Unknown')\n",
      "('GO:0042797', 2.386394406838901, 6, 6, 'Unknown', 'Unknown')\n",
      "('GO:0005666', 2.386394406838901, 6, 6, 'Unknown', 'Unknown')\n",
      "('GO:0003899', 2.7988515587237632, 10, 13, 'Unknown', 'Unknown')\n",
      "('GO:0000932', 6.616133984771947, 9, 12, 'Unknown', 'Unknown')\n",
      "('GO:0015616', 7.207393208528802, 5, 5, 'Unknown', 'Unknown')\n",
      "('GO:0003968', 11.970307687311738, 6, 7, 'Unknown', 'Unknown')\n",
      "('GO:0006458', 11.970307687311738, 6, 7, 'Unknown', 'Unknown')\n",
      "('GO:0051603', 11.970307687311738, 6, 7, 'proteolysis involved in cellular protein catabolic process', 'P')\n",
      "('GO:0001172', 11.970307687311738, 6, 7, 'Unknown', 'Unknown')\n",
      "('GO:0006303', 11.970307687311738, 6, 7, 'Unknown', 'Unknown')\n",
      "('GO:0030479', 13.659871397916039, 11, 17, 'Unknown', 'Unknown')\n",
      "('GO:0061077', 21.73842790313112, 4, 4, 'Unknown', 'Unknown')\n",
      "('GO:0008312', 21.73842790313112, 4, 4, 'Unknown', 'Unknown')\n",
      "('GO:0000184', 21.73842790313112, 4, 4, 'Unknown', 'Unknown')\n",
      "('GO:0061408', 21.73842790313112, 4, 4, 'Unknown', 'Unknown')\n",
      "('GO:0044183', 21.73842790313112, 4, 4, 'Unknown', 'Unknown')\n",
      "('GO:0000288', 21.73842790313112, 4, 4, 'Unknown', 'Unknown')\n",
      "('GO:0000387', 21.73842790313112, 4, 4, 'Unknown', 'Unknown')\n",
      "('GO:0008408', 21.73842790313112, 4, 4, 'Unknown', 'Unknown')\n",
      "('GO:0006616', 21.73842790313112, 4, 4, 'Unknown', 'Unknown')\n",
      "('GO:0016973', 30.162502821679414, 9, 14, 'Unknown', 'Unknown')\n",
      "('GO:0000981', 30.162502821679414, 9, 14, 'Unknown', 'Unknown')\n",
      "('GO:0043044', 31.3123872170074, 5, 6, 'Unknown', 'Unknown')\n",
      "('GO:0003779', 32.59227537175099, 8, 12, 'Unknown', 'Unknown')\n",
      "('GO:0000070', 32.59227537175099, 8, 12, 'Unknown', 'Unknown')\n",
      "('GO:0061025', 34.2943201635033, 7, 10, 'membrane fusion', 'P')\n",
      "('GO:0006325', 34.2943201635033, 7, 10, 'chromatin organization', 'P')\n",
      "('GO:0048284', 34.41515215153901, 6, 8, 'organelle fusion', 'P')\n",
      "('GO:0006887', 34.41515215153901, 6, 8, 'exocytosis', 'P')\n",
      "('GO:0006360', 34.41515215153901, 6, 8, 'transcription from RNA polymerase I promoter', 'P')\n",
      "('GO:0005665', 34.41515215153901, 6, 8, 'Unknown', 'Unknown')\n",
      "('GO:0008270', 36.163962393444876, 22, 45, 'Unknown', 'Unknown')\n",
      "('GO:0003682', 36.494905167855315, 15, 28, 'chromatin binding', 'F')\n",
      "('GO:0045944', 41.767267031408664, 23, 48, 'Unknown', 'Unknown')\n",
      "('GO:0016569', 42.138972852195934, 14, 26, 'Unknown', 'Unknown')\n",
      "['GO:0003729', 'GO:0006351', 'GO:0005634', 'GO:0005628', 'GO:0001056', 'GO:0042797', 'GO:0005666', 'GO:0003899', 'GO:0000932', 'GO:0015616', 'GO:0003968', 'GO:0006458', 'GO:0051603', 'GO:0001172', 'GO:0006303', 'GO:0030479', 'GO:0061077', 'GO:0008312', 'GO:0000184', 'GO:0061408', 'GO:0044183', 'GO:0000288', 'GO:0000387', 'GO:0008408', 'GO:0006616', 'GO:0016973', 'GO:0000981', 'GO:0043044', 'GO:0003779', 'GO:0000070', 'GO:0061025', 'GO:0006325', 'GO:0048284', 'GO:0006887', 'GO:0006360', 'GO:0005665', 'GO:0008270', 'GO:0003682', 'GO:0045944', 'GO:0016569']\n"
     ]
    }
   ],
   "source": [
    "report = go.getEnrichmentReport(positive_gene_list, negative_gene_list, threshold = 50.0, include_more_general = True)\n",
    "go_list = []\n",
    "for row in report:\n",
    "    print(row)\n",
    "    go_list.append(row[0])\n",
    "print(go_list)"
   ]
  },
  {
   "cell_type": "code",
   "execution_count": 22,
   "metadata": {},
   "outputs": [
    {
     "name": "stdout",
     "output_type": "stream",
     "text": [
      "('F', {('GO:0003723', 'is_a')}, 'mRNA binding')\n",
      "('Unknown', 'Unknown', 'Unknown')\n",
      "('C', {('GO:0005575', 'is_a'), ('GO:0005575', 'part_of')}, 'nucleus')\n",
      "('Unknown', 'Unknown', 'Unknown')\n",
      "('Unknown', 'Unknown', 'Unknown')\n",
      "('Unknown', 'Unknown', 'Unknown')\n",
      "('Unknown', 'Unknown', 'Unknown')\n",
      "('Unknown', 'Unknown', 'Unknown')\n",
      "('Unknown', 'Unknown', 'Unknown')\n",
      "('Unknown', 'Unknown', 'Unknown')\n",
      "('Unknown', 'Unknown', 'Unknown')\n",
      "('Unknown', 'Unknown', 'Unknown')\n",
      "('P', {('GO:0008150', 'part_of'), ('GO:0008150', 'is_a')}, 'proteolysis involved in cellular protein catabolic process')\n",
      "('Unknown', 'Unknown', 'Unknown')\n",
      "('Unknown', 'Unknown', 'Unknown')\n",
      "('Unknown', 'Unknown', 'Unknown')\n",
      "('Unknown', 'Unknown', 'Unknown')\n",
      "('Unknown', 'Unknown', 'Unknown')\n",
      "('Unknown', 'Unknown', 'Unknown')\n",
      "('Unknown', 'Unknown', 'Unknown')\n",
      "('Unknown', 'Unknown', 'Unknown')\n",
      "('Unknown', 'Unknown', 'Unknown')\n",
      "('Unknown', 'Unknown', 'Unknown')\n",
      "('Unknown', 'Unknown', 'Unknown')\n",
      "('Unknown', 'Unknown', 'Unknown')\n",
      "('Unknown', 'Unknown', 'Unknown')\n",
      "('Unknown', 'Unknown', 'Unknown')\n",
      "('Unknown', 'Unknown', 'Unknown')\n",
      "('Unknown', 'Unknown', 'Unknown')\n",
      "('Unknown', 'Unknown', 'Unknown')\n",
      "('P', {('GO:0008150', 'is_a')}, 'membrane fusion')\n",
      "('P', {('GO:0008150', 'part_of'), ('GO:0008150', 'is_a')}, 'chromatin organization')\n",
      "('P', {('GO:0008150', 'is_a')}, 'organelle fusion')\n",
      "('P', {('GO:0016050', 'has_part'), ('GO:0061025', 'has_part'), ('GO:0008150', 'is_a'), ('GO:0048284', 'has_part')}, 'exocytosis')\n",
      "('P', {('GO:0008150', 'part_of'), ('GO:0008150', 'is_a')}, 'transcription from RNA polymerase I promoter')\n",
      "('Unknown', 'Unknown', 'Unknown')\n",
      "('Unknown', 'Unknown', 'Unknown')\n",
      "('F', {('GO:0003674', 'is_a')}, 'chromatin binding')\n",
      "('Unknown', 'Unknown', 'Unknown')\n",
      "('Unknown', 'Unknown', 'Unknown')\n"
     ]
    }
   ],
   "source": [
    "# go more information by getTermdef\n",
    "for term in go_list:\n",
    "    defin = go.getTermdef(term)\n",
    "    print(defin)"
   ]
  }
 ],
 "metadata": {
  "kernelspec": {
   "display_name": "Python 3",
   "language": "python",
   "name": "python3"
  },
  "language_info": {
   "codemirror_mode": {
    "name": "ipython",
    "version": 3
   },
   "file_extension": ".py",
   "mimetype": "text/x-python",
   "name": "python",
   "nbconvert_exporter": "python",
   "pygments_lexer": "ipython3",
   "version": "3.8.3"
  }
 },
 "nbformat": 4,
 "nbformat_minor": 4
}
