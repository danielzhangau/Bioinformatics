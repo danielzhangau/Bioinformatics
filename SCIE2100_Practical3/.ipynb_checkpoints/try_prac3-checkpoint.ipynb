{
 "cells": [
  {
   "cell_type": "code",
   "execution_count": 1,
   "metadata": {},
   "outputs": [],
   "source": [
    "from sequence import *\n",
    "import time"
   ]
  },
  {
   "cell_type": "code",
   "execution_count": 2,
   "metadata": {},
   "outputs": [],
   "source": [
    "s1 = Sequence('AGCGCGATTATATAAGACGGACGGCTAAAG', Protein_Alphabet)\n",
    "s2 = Sequence('AGCGGATATTTATATCGCACGACGACTACG', Protein_Alphabet)\n",
    "s3 = Sequence('GGATCGATTATATAGCCTGGACGAGACATG', Protein_Alphabet)\n",
    "\n",
    "dna = readSubstMatrix('dna.matrix', Protein_Alphabet)"
   ]
  },
  {
   "cell_type": "code",
   "execution_count": 3,
   "metadata": {},
   "outputs": [
    {
     "name": "stdout",
     "output_type": "stream",
     "text": [
      "alignGlobal Elapsed time was 0.00296521 seconds\n",
      "tripletAlignGlobal Elapsed time was 0.42586 seconds\n"
     ]
    }
   ],
   "source": [
    "start_time = time.time()\n",
    "alns1s2 = alignGlobal(s1, s2, dna, -4)\n",
    "end_time = time.time()\n",
    "print(\"alignGlobal Elapsed time was %g seconds\" % (end_time - start_time))\n",
    "\n",
    "start_time = time.time()\n",
    "alns1s2s3 = tripletAlignGlobal(s1, s2, s3, dna, -4)\n",
    "end_time = time.time()\n",
    "print(\"tripletAlignGlobal Elapsed time was %g seconds\" % (end_time - start_time))"
   ]
  },
  {
   "cell_type": "code",
   "execution_count": 4,
   "metadata": {},
   "outputs": [
    {
     "name": "stdout",
     "output_type": "stream",
     "text": [
      "tripletAlignGlobal Elapsed time was 3.27723 seconds\n"
     ]
    }
   ],
   "source": [
    "s4 = Sequence('AGCGCGATTATATAAGACGGACGAGACGACAGCGCGATAGACGAGACGGACGAGACGACT', Protein_Alphabet)\n",
    "s5 = Sequence('GGATCGATTATATAGCCTGGACGAGACATGGGATCGAAGACGACCTGGACGAGACATGAC', Protein_Alphabet)\n",
    "s6 = Sequence('AGCGGATATTTATATCGCACGACGACTACGAGCGGAAGACGAGTTTCGCACGACACTACG', Protein_Alphabet)\n",
    "\n",
    "start_time = time.time()\n",
    "alns1s2s3 = tripletAlignGlobal(s4, s5, s6, dna, -4)\n",
    "end_time = time.time()\n",
    "print(\"tripletAlignGlobal Elapsed time was %g seconds\" % (end_time - start_time))"
   ]
  },
  {
   "cell_type": "markdown",
   "metadata": {},
   "source": [
    "### The number of cells in the score matrix of 'tripletAlignGlobal', in terms of the sequence lengths. (Let N be the length of each sequence)"
   ]
  },
  {
   "cell_type": "markdown",
   "metadata": {},
   "source": [
    "### matrix_size = (N+1)**3"
   ]
  },
  {
   "cell_type": "markdown",
   "metadata": {},
   "source": [
    "## Part 2: Consensus sequences"
   ]
  },
  {
   "cell_type": "code",
   "execution_count": 5,
   "metadata": {},
   "outputs": [
    {
     "name": "stdout",
     "output_type": "stream",
     "text": [
      "My consensus: AGFDTVT-AISWSLMYLVTNPRVQRKIQ\n"
     ]
    }
   ],
   "source": [
    "seq1 = Sequence(name=\"Seq1\", sequence=\"AGFDTVTTAISWSL-YLVTNPNVQKKIQ\", alphabet=Protein_Alphabet, gappy=True)\n",
    "seq2 = Sequence(name=\"Seq2\", sequence=\"AGFDTITTAISWSL-YLVMNPRIQKKIQ\", alphabet=Protein_Alphabet, gappy=True)\n",
    "seq3 = Sequence(name=\"Seq3\", sequence=\"AGFDTVT-A-SWSLMYLVMNPRVQRKIQ\", alphabet=Protein_Alphabet, gappy=True)\n",
    "seq4 = Sequence(name=\"Seq4\", sequence=\"AGFDTVT-A-SWSLMYLVTNPRVQRKIQ\", alphabet=Protein_Alphabet, gappy=True)\n",
    "seq5 = Sequence(name=\"Seq5\", sequence=\"AGFDTVT-AISWSLMYLVTNPGVQRKIQ\", alphabet=Protein_Alphabet, gappy=True)\n",
    "\n",
    "test_aln = Alignment([seq1, seq2, seq3, seq4, seq5])\n",
    "\n",
    "print(\"My consensus:\", test_aln.getConsensus())"
   ]
  },
  {
   "cell_type": "code",
   "execution_count": 6,
   "metadata": {},
   "outputs": [
    {
     "name": "stdout",
     "output_type": "stream",
     "text": [
      "2\n",
      "3\n",
      "10\n",
      "30\n",
      "43\n",
      "69\n",
      "77\n",
      "139\n",
      "153\n",
      "157\n",
      "164\n",
      "185\n",
      "217\n",
      "226\n",
      "233\n",
      "246\n",
      "247\n",
      "252\n",
      "254\n",
      "262\n",
      "281\n",
      "282\n",
      "283\n",
      "305\n",
      "335\n",
      "337\n",
      "347\n",
      "350\n",
      "357\n",
      "358\n",
      "365\n",
      "368\n",
      "385\n",
      "393\n",
      "394\n",
      "395\n",
      "My consensus: MSA-----PS-------PFTVDIPDE-VDDLKRRLDLSR--PAT-E---EDLRYGPTLDWLKELAKGW---FDWRAVEDRLNSFPHYTVEIEGLSIHFLHLRSTRPDAIPLILLHGWPGSFLEFLKVIPLLTE---PETLAFHVVVPSLPGYAFSSPPPS-SGFGMEDTARVFDKLMTGLGY-DGYVAQGGDWGSIVARCLASLHPECKAVHLNFCPV--NPTTSL---LTEAEKAGLERGLAYLEKGSAYAVEQGTKPRTIGYALSDSPVGLLAWIGEKFLAWSD--LTRDEILTTVSLYWFTESIGTSFLPYRENFP---------------RIHKPFGLS-FPKELA-PPRSWVARTGNLVWYKDHPEGGHFAALERPDVFLE-LREFVEQV---\n"
     ]
    }
   ],
   "source": [
    "eh_aln = readClustalFile('eh.aln', Protein_Alphabet)\n",
    "print(\"My consensus:\", eh_aln.getConsensus())"
   ]
  },
  {
   "cell_type": "code",
   "execution_count": 7,
   "metadata": {},
   "outputs": [
    {
     "data": {
      "image/png": "[encoded data removed]",
      "text/plain": [
       "<Figure size 432x288 with 2 Axes>"
      ]
     },
     "metadata": {
      "needs_background": "light"
     },
     "output_type": "display_data"
    }
   ],
   "source": [
    "import numpy as np\n",
    "# Matplotlib is a Python 2D plotting library which produces \n",
    "# high quality figures for displaying data\n",
    "import matplotlib.pyplot as plt \n",
    "\n",
    "aln = readClustalFile('cyp1a1.aln', Protein_Alphabet)\n",
    "d = aln.calcDistances('fractional')\n",
    "\n",
    "fig, ax = plt.subplots()\n",
    "plt.imshow(d, plt.cm.gray, interpolation='nearest')\n",
    "plt.colorbar()\n",
    "plt.yticks(np.arange(len(aln)), [s.name for s in aln])\n",
    "plt.xticks(numpy.arange(len(aln)), [s.name for s in aln], rotation=90)\n",
    "plt.subplots_adjust(bottom=0.35)\n",
    "plt.savefig('cyp1a1_dist.png')\n",
    "plt.title('Distances')\n",
    "plt.show()"
   ]
  },
  {
   "cell_type": "code",
   "execution_count": null,
   "metadata": {},
   "outputs": [],
   "source": []
  }
 ],
 "metadata": {
  "kernelspec": {
   "display_name": "Python 3",
   "language": "python",
   "name": "python3"
  },
  "language_info": {
   "codemirror_mode": {
    "name": "ipython",
    "version": 3
   },
   "file_extension": ".py",
   "mimetype": "text/x-python",
   "name": "python",
   "nbconvert_exporter": "python",
   "pygments_lexer": "ipython3",
   "version": "3.8.3"
  }
 },
 "nbformat": 4,
 "nbformat_minor": 4
}
