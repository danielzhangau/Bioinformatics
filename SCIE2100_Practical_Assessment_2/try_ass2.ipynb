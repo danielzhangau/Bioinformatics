{
 "cells": [
  {
   "cell_type": "code",
   "execution_count": 1,
   "metadata": {},
   "outputs": [],
   "source": [
    "from sequence import *\n",
    "from phylo import *"
   ]
  },
  {
   "cell_type": "code",
   "execution_count": 3,
   "metadata": {},
   "outputs": [
    {
     "data": {
      "text/plain": [
       "array([[0.        , 1.50692857],\n",
       "       [1.50692857, 0.        ]])"
      ]
     },
     "execution_count": 3,
     "metadata": {},
     "output_type": "execute_result"
    }
   ],
   "source": [
    "eh_aln = readClustalFile('eh.aln', Protein_Alphabet)\n",
    "d = eh_aln.calcDistances('gamma', 3.25)\n",
    "d"
   ]
  },
  {
   "cell_type": "code",
   "execution_count": 11,
   "metadata": {},
   "outputs": [
    {
     "name": "stdout",
     "output_type": "stream",
     "text": [
      "A0A1A8AU08:0.00261\n",
      "G3PS36:0.15853\n"
     ]
    }
   ],
   "source": [
    "my_tree = readNewick('tyrosine_protein_kinase_fer.newick') # Read the newick file\n",
    "mynode1 = my_tree.findLabel(\"A0A1A8AU08\")\n",
    "print(mynode1) # Look at selected node after loading the tree\n",
    "mynode2 = my_tree.findLabel(\"G3PS36\")\n",
    "print(mynode2)"
   ]
  },
  {
   "cell_type": "code",
   "execution_count": 25,
   "metadata": {
    "scrolled": true
   },
   "outputs": [
    {
     "name": "stdout",
     "output_type": "stream",
     "text": [
      "has-distance 0.0 from ancestor N_1O72YI\n",
      "has-distance 0.07799 from ancestor N_P3SJE1\n",
      "has-distance 0.02885 from ancestor N_6X5OCZ\n",
      "has-distance 0.13452 from ancestor N_LZTO3K\n",
      "has-distance 0.03481 from ancestor N_NN3PPW\n",
      "has-distance 0.18156 from ancestor N_73PQ48\n",
      "has-distance 0.08849 from ancestor N_IY4J2R\n",
      "has-distance 0.12177 from ancestor N_G5HCJJ\n",
      "has-distance 0.21528 from ancestor N_4RGOI5\n",
      "has-distance 0.01235 from ancestor N_HS73OU\n",
      "has-distance 0.01859 from ancestor N_KHKD4J\n",
      "has-distance 0.12479 from ancestor N_NP656I\n",
      "has-distance 0.01038 from ancestor N_A7C7F3\n",
      "has-distance 0.00261 from ancestor N_01RRZV\n"
     ]
    }
   ],
   "source": [
    "# print all the ancestor of the node A0A1A8AU08 with distance\n",
    "mynode1 = my_tree.findLabel(\"A0A1A8AU08\") # Get the node with the same name as the sequence\n",
    "a_node1 = my_tree.getAncestorsOf(mynode1, transitive = True) # Get the direct ancestor for the node\n",
    "for i in a_node1:\n",
    "    print('has-distance', i.dist, 'from ancestor', i.label) # Print the evolutionary distance"
   ]
  },
  {
   "cell_type": "code",
   "execution_count": 26,
   "metadata": {},
   "outputs": [
    {
     "name": "stdout",
     "output_type": "stream",
     "text": [
      "has-distance 0.0 from ancestor N_1O72YI\n",
      "has-distance 0.07799 from ancestor N_P3SJE1\n",
      "has-distance 0.02885 from ancestor N_6X5OCZ\n",
      "has-distance 0.02773 from ancestor N_9M57YW\n",
      "has-distance 0.02666 from ancestor N_4VRM75\n",
      "has-distance 0.09947 from ancestor N_4VYY4L\n",
      "has-distance 0.0897 from ancestor N_0NESZ0\n",
      "has-distance 0.12596 from ancestor N_NMAIEZ\n",
      "has-distance 0.17501 from ancestor N_M5VDPE\n",
      "has-distance 0.03378 from ancestor N_8H3LJ6\n",
      "has-distance 0.09747 from ancestor N_5W280K\n",
      "has-distance 0.02613 from ancestor N_MY3XJW\n",
      "has-distance 0.08731 from ancestor N_6VA4CW\n"
     ]
    }
   ],
   "source": [
    "# print all the ancestor of the node G3PS36 with distance\n",
    "mynode2 = my_tree.findLabel(\"G3PS36\") # Get the node with the same name as the sequence\n",
    "a_node2 = my_tree.getAncestorsOf(mynode2, transitive = True) # Get the direct ancestor for the node\n",
    "for i in a_node2:\n",
    "    print('has-distance', i.dist, 'from ancestor', i.label) # Print the evolutionary distance"
   ]
  },
  {
   "cell_type": "code",
   "execution_count": 35,
   "metadata": {},
   "outputs": [
    {
     "name": "stdout",
     "output_type": "stream",
     "text": [
      "[<phylo.PhyloNode object at 0x0000025EC4BD9C10>, <phylo.PhyloNode object at 0x0000025EC4BA5BB0>, <phylo.PhyloNode object at 0x0000025EC4BA5FD0>]\n",
      "nearest:  N_6X5OCZ\n"
     ]
    }
   ],
   "source": [
    "# find all common ancestors\n",
    "common_ancestors = []\n",
    "for x in a_node1:\n",
    "    for y in a_node2:\n",
    "        if x.label == y.label:\n",
    "            common_ancestors.append(x)\n",
    "print(common_ancestors)\n",
    "# find the nearest one\n",
    "nearest_dis = 100\n",
    "nearest = ''\n",
    "for i in common_ancestors:\n",
    "    if i.dist < nearest_dis:\n",
    "        nearest = i\n",
    "print(\"nearest: \", nearest.label)"
   ]
  },
  {
   "cell_type": "code",
   "execution_count": null,
   "metadata": {},
   "outputs": [],
   "source": []
  }
 ],
 "metadata": {
  "kernelspec": {
   "display_name": "Python 3",
   "language": "python",
   "name": "python3"
  },
  "language_info": {
   "codemirror_mode": {
    "name": "ipython",
    "version": 3
   },
   "file_extension": ".py",
   "mimetype": "text/x-python",
   "name": "python",
   "nbconvert_exporter": "python",
   "pygments_lexer": "ipython3",
   "version": "3.8.3"
  }
 },
 "nbformat": 4,
 "nbformat_minor": 4
}
