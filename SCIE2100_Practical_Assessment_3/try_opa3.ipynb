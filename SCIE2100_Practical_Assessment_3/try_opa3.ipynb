{
 "cells": [
  {
   "cell_type": "code",
   "execution_count": 1,
   "metadata": {},
   "outputs": [],
   "source": [
    "from sequence import *\n",
    "from prob import *"
   ]
  },
  {
   "cell_type": "markdown",
   "metadata": {},
   "source": [
    "### Question 1 (4 marks)"
   ]
  },
  {
   "cell_type": "markdown",
   "metadata": {},
   "source": [
    "Chou and Fasman presented a table of scores that can be used to assess the potential secondary structures that are formed from amino acids. We represent these scores as a Python dictionary that associates each amino acid with a list of scores. The first three scores for each amino acid represent the propensity to form alpha-helices, beta-strands and turns, respectively."
   ]
  },
  {
   "cell_type": "code",
   "execution_count": 2,
   "metadata": {},
   "outputs": [],
   "source": [
    "cf_dict = {\n",
    "# Chou-Fasman table\n",
    "#     P(H), P(E), P(T),    f(i), f(i+1), f(i+2), f(i+3)\n",
    "'A': ( 142,   83,   66,   0.060,  0.076,  0.035,  0.058 ),    # Alanine\n",
    "'R': (  98,   93,   95,   0.070,  0.106,  0.099,  0.085 ),    # Arginine\n",
    "'N': ( 101,   54,  146,   0.147,  0.110,  0.179,  0.081 ),    # Aspartic Acid\n",
    "'D': (  67,   89,  156,   0.161,  0.083,  0.191,  0.091 ),    # Asparagine\n",
    "'C': (  70,  119,  119,   0.149,  0.050,  0.117,  0.128 ),    # Cysteine\n",
    "'E': ( 151,   37,   74,   0.056,  0.060,  0.077,  0.064 ),    # Glutamic Acid\n",
    "'Q': ( 111,  110,   98,   0.074,  0.098,  0.037,  0.098 ),    # Glutamine\n",
    "'G': (  57,   75,  156,   0.102,  0.085,  0.190,  0.152 ),    # Glycine\n",
    "'H': ( 100,   87,   95,   0.140,  0.047,  0.093,  0.054 ),    # Histidine\n",
    "'I': ( 108,  160,   47,   0.043,  0.034,  0.013,  0.056 ),    # Isoleucine\n",
    "'L': ( 121,  130,   59,   0.061,  0.025,  0.036,  0.070 ),    # Leucine\n",
    "'K': ( 114,   74,  101,   0.055,  0.115,  0.072,  0.095 ),    # Lysine\n",
    "'M': ( 145,  105,   60,   0.068,  0.082,  0.014,  0.055 ),    # Methionine\n",
    "'F': ( 113,  138,   60,   0.059,  0.041,  0.065,  0.065 ),    # Phenylalanine\n",
    "'P': (  57,   55,  152,   0.102,  0.301,  0.034,  0.068 ),    # Proline\n",
    "'S': (  77,   75,  143,   0.120,  0.139,  0.125,  0.106 ),    # Serine\n",
    "'T': (  83,  119,   96,   0.086,  0.108,  0.065,  0.079 ),    # Threonine\n",
    "'W': ( 108,  137,   96,   0.077,  0.013,  0.064,  0.167 ),    # Tryptophan\n",
    "'Y': (  69,  147,  114,   0.082,  0.065,  0.114,  0.125 ),    # Tyrosine\n",
    "'V': ( 106,  170,   50,   0.062,  0.048,  0.028,  0.053 )}    # Valine"
   ]
  },
  {
   "cell_type": "code",
   "execution_count": 3,
   "metadata": {},
   "outputs": [],
   "source": [
    "seq = 'PPDFVYYFKGMCYFTNGTERVRLVTRYIYNREEYARFDSDVGVYRAVTPLGPPAAEYWNSQKEVLERTRAELDTVCRHNYQLELRT'"
   ]
  },
  {
   "cell_type": "code",
   "execution_count": 4,
   "metadata": {},
   "outputs": [
    {
     "name": "stdout",
     "output_type": "stream",
     "text": [
      "CCCEEEEEHCHEEEEHCEHCECEEECEEEHCHHEHCECCCECEECHEECECCCHHHEEHCHHHEEHCECHHECEEECHHEHEHECE\n"
     ]
    }
   ],
   "source": [
    "predicted_seq = ''\n",
    "myprot = Sequence(seq, Protein_Alphabet, 'seq')\n",
    "for char in myprot:\n",
    "    if cf_dict[char][0] >= 100 or cf_dict[char][1] >= 100:\n",
    "        if cf_dict[char][0] > cf_dict[char][1]:\n",
    "            predicted_seq += 'H'\n",
    "        else:\n",
    "            predicted_seq += 'E'\n",
    "    else:\n",
    "        predicted_seq += 'C'\n",
    "print(predicted_seq)"
   ]
  },
  {
   "cell_type": "markdown",
   "metadata": {},
   "source": [
    "### Question 2 (2 marks)"
   ]
  },
  {
   "cell_type": "code",
   "execution_count": 5,
   "metadata": {},
   "outputs": [],
   "source": [
    "ss3 = 'CCCCEEEEEEEEEEECCCCEEEEEEEEEECCEEEEEEECCCCCEEECCCCCHHHHHHHHCCHHHHHHHHHHHHHCHHHHHHHHHHC'"
   ]
  },
  {
   "cell_type": "code",
   "execution_count": 6,
   "metadata": {},
   "outputs": [
    {
     "name": "stdout",
     "output_type": "stream",
     "text": [
      "0.5806451612903226\n",
      "0.6363636363636364\n"
     ]
    }
   ],
   "source": [
    "tp = 0\n",
    "tn = 0\n",
    "fp = 0\n",
    "fn = 0\n",
    "position = 0\n",
    "for element in ss3:\n",
    "    if element == \"E\" and predicted_seq[position] == \"E\":\n",
    "        tp += 1 # matched alpha helix\n",
    "    if element != \"E\" and predicted_seq[position] != \"E\":\n",
    "        tn += 1 # matched beta sheet\n",
    "    if element != \"E\" and predicted_seq[position] == \"E\":\n",
    "        fp += 1 # matched beta sheet\n",
    "    if element == \"E\" and predicted_seq[position] != \"E\":\n",
    "        fn += 1 # matched beta sheet\n",
    "    position += 1\n",
    "Se = tp/(tp + fn)\n",
    "print(Se)\n",
    "Sp = tn/(tn + fp)\n",
    "print(Sp)"
   ]
  },
  {
   "cell_type": "markdown",
   "metadata": {},
   "source": [
    "### Question 3 (2 marks)"
   ]
  },
  {
   "cell_type": "code",
   "execution_count": 7,
   "metadata": {},
   "outputs": [],
   "source": [
    "dna = [\n",
    "    'CCAATTA',\n",
    "    'CCAATTA',\n",
    "    'ACTATAA',\n",
    "    'ACTATAA',\n",
    "    'CCAATAT',\n",
    "    'ACTATCT',\n",
    "    'ACTATCT',\n",
    "    'CCTATCA']"
   ]
  },
  {
   "cell_type": "code",
   "execution_count": 8,
   "metadata": {},
   "outputs": [
    {
     "name": "stdout",
     "output_type": "stream",
     "text": [
      "chr7:130602946-130603045, <re.Match object; span=(0, 7), match='ACTATCT'>\n",
      "chr15:5089967-5090066, <re.Match object; span=(0, 7), match='CCAATAT'>\n",
      "chr19:23226975-23227074, <re.Match object; span=(0, 7), match='CCTATCT'>\n",
      "chr5:107134353-107134452, <re.Match object; span=(0, 7), match='CCTATGT'>\n"
     ]
    }
   ],
   "source": [
    "import re\n",
    "from sequence import *\n",
    "tf = re.compile('[AC]C[AT]AT.[AT]')\n",
    "seqs = readFastaFile('chipseq.fa', DNA_Alphabet)\n",
    "for seq in seqs:\n",
    "    seqstr = ''.join(seq.sequence)\n",
    "    m = tf.match(seqstr)\n",
    "    if m:\n",
    "        print(seq.name, m)"
   ]
  },
  {
   "cell_type": "code",
   "execution_count": 9,
   "metadata": {},
   "outputs": [
    {
     "name": "stdout",
     "output_type": "stream",
     "text": [
      "chr7:130602946-130603045, <re.Match object; span=(0, 7), match='ACTATCT'>\n",
      "chr15:5089967-5090066, <re.Match object; span=(0, 7), match='CCAATAT'>\n",
      "chr19:23226975-23227074, <re.Match object; span=(0, 7), match='CCTATCT'>\n"
     ]
    }
   ],
   "source": [
    "tf = re.compile('[AC]C[AT]AT[ACT][AT]')\n",
    "seqs = readFastaFile('chipseq.fa', DNA_Alphabet)\n",
    "for seq in seqs:\n",
    "    seqstr = ''.join(seq.sequence)\n",
    "    m = tf.match(seqstr)\n",
    "    if m:\n",
    "        print(seq.name, m)"
   ]
  },
  {
   "cell_type": "markdown",
   "metadata": {},
   "source": [
    "### Question 4 [2 marks]"
   ]
  },
  {
   "cell_type": "code",
   "execution_count": 10,
   "metadata": {},
   "outputs": [
    {
     "data": {
      "text/plain": [
       "[<prob.Distrib at 0x20f046ccb50>,\n",
       " <prob.Distrib at 0x20f046cc460>,\n",
       " <prob.Distrib at 0x20f046cc0a0>,\n",
       " <prob.Distrib at 0x20f046cc790>,\n",
       " <prob.Distrib at 0x20f046cc3d0>,\n",
       " <prob.Distrib at 0x20f046cc5e0>,\n",
       " <prob.Distrib at 0x20f046cc760>,\n",
       " <prob.Distrib at 0x20f046ccf10>]"
      ]
     },
     "execution_count": 10,
     "metadata": {},
     "output_type": "execute_result"
    }
   ],
   "source": [
    "distribs = readMultiCount('FHL1.jaspar')\n",
    "distribs"
   ]
  },
  {
   "cell_type": "code",
   "execution_count": 11,
   "metadata": {},
   "outputs": [
    {
     "name": "stdout",
     "output_type": "stream",
     "text": [
      " \t     1      2      3      4      5      6      7      8\n",
      "A\t-25.33  +1.39 -25.33 -25.33 -25.33  +1.28  +0.63  +0.79\n",
      "C\t -0.92 -25.33  +1.39 -25.33  +1.39 -25.33  +0.09  -0.51\n",
      "G\t +1.28 -25.33 -25.33  +1.39 -25.33 -25.33  -0.35  -0.51\n",
      "T\t-25.33 -25.33 -25.33 -25.33 -25.33  -0.92  -1.16  -0.51\n"
     ]
    }
   ],
   "source": [
    "FHL1_pwm = PWM(distribs)\n",
    "FHL1_pwm.display()"
   ]
  },
  {
   "cell_type": "code",
   "execution_count": 12,
   "metadata": {},
   "outputs": [
    {
     "data": {
      "text/plain": [
       "20"
      ]
     },
     "execution_count": 12,
     "metadata": {},
     "output_type": "execute_result"
    }
   ],
   "source": [
    "# read fasta file\n",
    "yeast_promoters = readFastaFile('yeast_promoters.fa')\n",
    "len(yeast_promoters)"
   ]
  },
  {
   "cell_type": "code",
   "execution_count": 13,
   "metadata": {},
   "outputs": [
    {
     "name": "stdout",
     "output_type": "stream",
     "text": [
      "{'RPL6B': 724, 'SRM1': 5, 'TAF2': 569, 'GAT2': 176, 'YER064C': 595, 'SUB1': 740, 'SNO4': 384, 'RPL28': 614, 'MUB1': 382, 'DOT1': 505}\n",
      "['CACGCTGG', 'CACGCAAA', 'CACGCACC', 'GACGCTGG', 'CACGCACA', 'GACGCTAA', 'GACGCAAT', 'GACGCAAA', 'GACGCATG', 'GACGCACA']\n"
     ]
    }
   ],
   "source": [
    "yeast_subseqs = []\n",
    "score_dict = {}\n",
    "for s in yeast_promoters: # yeast_prom is an array of sequences\n",
    "    if FHL1_pwm.maxscore(s)[0] > 2.8:\n",
    "        score_dict[s.name] = FHL1_pwm.maxscore(s)[1] # save index only\n",
    "        yeast_subseqs.append((''.join(s.sequence))[FHL1_pwm.maxscore(s)[1]:FHL1_pwm.maxscore(s)[1]+8])\n",
    "print(score_dict)\n",
    "print(yeast_subseqs)"
   ]
  },
  {
   "cell_type": "code",
   "execution_count": 28,
   "metadata": {},
   "outputs": [
    {
     "name": "stdout",
     "output_type": "stream",
     "text": [
      "[CG]ACGC[TA][GACT][GACT]\n"
     ]
    }
   ],
   "source": [
    "regular_expression = \"\"\n",
    "char_list = []\n",
    "for index in range(0,8):\n",
    "    for item in yeast_subseqs:\n",
    "        if item[index] not in char_list:\n",
    "            char_list.append(item[index])\n",
    "    if len(char_list) > 1:\n",
    "        regular_expression = regular_expression + '['+ ''.join(char_list) + ']'\n",
    "    else:\n",
    "        regular_expression = regular_expression + ''.join(char_list)\n",
    "    char_list = []\n",
    "print(regular_expression)"
   ]
  },
  {
   "cell_type": "code",
   "execution_count": 29,
   "metadata": {},
   "outputs": [
    {
     "name": "stdout",
     "output_type": "stream",
     "text": [
      "CACGCTGG <re.Match object; span=(0, 8), match='CACGCTGG'>\n",
      "CACGCAAA <re.Match object; span=(0, 8), match='CACGCAAA'>\n",
      "CACGCACC <re.Match object; span=(0, 8), match='CACGCACC'>\n",
      "GACGCTGG <re.Match object; span=(0, 8), match='GACGCTGG'>\n",
      "CACGCACA <re.Match object; span=(0, 8), match='CACGCACA'>\n",
      "GACGCTAA <re.Match object; span=(0, 8), match='GACGCTAA'>\n",
      "GACGCAAT <re.Match object; span=(0, 8), match='GACGCAAT'>\n",
      "GACGCAAA <re.Match object; span=(0, 8), match='GACGCAAA'>\n",
      "GACGCATG <re.Match object; span=(0, 8), match='GACGCATG'>\n",
      "GACGCACA <re.Match object; span=(0, 8), match='GACGCACA'>\n"
     ]
    }
   ],
   "source": [
    "tf = re.compile('[CG]ACGC[TA][GACT][GACT]')\n",
    "for seq in yeast_subseqs:\n",
    "    m = tf.match(seq)\n",
    "    if m:\n",
    "        print(seq, m)"
   ]
  }
 ],
 "metadata": {
  "kernelspec": {
   "display_name": "Python 3",
   "language": "python",
   "name": "python3"
  },
  "language_info": {
   "codemirror_mode": {
    "name": "ipython",
    "version": 3
   },
   "file_extension": ".py",
   "mimetype": "text/x-python",
   "name": "python",
   "nbconvert_exporter": "python",
   "pygments_lexer": "ipython3",
   "version": "3.8.3"
  }
 },
 "nbformat": 4,
 "nbformat_minor": 4
}
